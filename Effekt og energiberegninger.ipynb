{
 "cells": [
  {
   "cell_type": "code",
   "execution_count": 2,
   "id": "07b2df49",
   "metadata": {},
   "outputs": [],
   "source": [
    "import pandas as pd\n",
    "import pvlib\n",
    "from pvlib.location import Location\n",
    "import matplotlib.pyplot as plt\n",
    "import numpy as np\n",
    "from sympy import*\n",
    "from scipy.optimize import curve_fit\n",
    "from scipy import integrate # indlæses også senere i selve opgaven"
   ]
  },
  {
   "cell_type": "code",
   "execution_count": 3,
   "id": "1ddab393",
   "metadata": {},
   "outputs": [],
   "source": [
    "tidszone = \"Europe/Copenhagen\"\n",
    "start_dato = \"2024-01-01\"\n",
    "slut_dato = \"2024-12-31\"\n",
    "delta_tid = \"Min\"  # \"Min\", \"H\",\n",
    "\n",
    "# Definition of Location object. Coordinates and elevation of Amager, Copenhagen (Denmark)\n",
    "site = Location(\n",
    "    55.47092, 12.31168, tidszone, 10, \"Danmarks Tekniske Universitet (DK)\"\n",
    ")  # latitude, longitude, time_zone, altitude, name\n",
    "\n",
    "# Højde er ca 50 m MOH\n",
    "\n",
    "# Definition of a time range of simulation\n",
    "times = pd.date_range(\n",
    "    start_dato + \" 00:00:00\", slut_dato + \" 23:59:59\", inclusive=\"left\", freq=delta_tid, tz=tidszone\n",
    ")\n",
    "\n",
    "# Estimate Solar Position with the 'Location' object\n",
    "solpos = site.get_solarposition(times)\n"
   ]
  },
  {
   "cell_type": "markdown",
   "id": "bb3d61ec",
   "metadata": {},
   "source": [
    "#### Effekt og energiberegninger (Opgaven starter her)"
   ]
  },
  {
   "cell_type": "code",
   "execution_count": 4,
   "id": "ac1e53c6",
   "metadata": {},
   "outputs": [
    {
     "data": {
      "text/plain": [
       "2024-04-20 00:00:00+02:00    111.369868\n",
       "2024-04-20 00:01:00+02:00    111.413961\n",
       "2024-04-20 00:02:00+02:00    111.457446\n",
       "2024-04-20 00:03:00+02:00    111.500321\n",
       "2024-04-20 00:04:00+02:00    111.542585\n",
       "                                ...    \n",
       "2024-04-20 23:55:00+02:00    110.816058\n",
       "2024-04-20 23:56:00+02:00    110.862889\n",
       "2024-04-20 23:57:00+02:00    110.909120\n",
       "2024-04-20 23:58:00+02:00    110.954749\n",
       "2024-04-20 23:59:00+02:00    110.999775\n",
       "Freq: min, Name: zenith, Length: 1440, dtype: float64"
      ]
     },
     "execution_count": 4,
     "metadata": {},
     "output_type": "execute_result"
    }
   ],
   "source": [
    "# Theta_sol (solens zenitvinkler)\n",
    "theta_sol = solpos.loc[\"2024-04-20\"].zenith\n",
    "solpos.loc[\"2024-04-20\"].zenith"
   ]
  },
  {
   "cell_type": "code",
   "execution_count": 5,
   "id": "d7ea9ec6",
   "metadata": {},
   "outputs": [
    {
     "data": {
      "text/plain": [
       "2024-04-20 00:00:00+02:00    341.644293\n",
       "2024-04-20 00:01:00+02:00    341.903057\n",
       "2024-04-20 00:02:00+02:00    342.162016\n",
       "2024-04-20 00:03:00+02:00    342.421170\n",
       "2024-04-20 00:04:00+02:00    342.680514\n",
       "                                ...    \n",
       "2024-04-20 23:55:00+02:00    340.477177\n",
       "2024-04-20 23:56:00+02:00    340.734095\n",
       "2024-04-20 23:57:00+02:00    340.991217\n",
       "2024-04-20 23:58:00+02:00    341.248541\n",
       "2024-04-20 23:59:00+02:00    341.506064\n",
       "Freq: min, Name: azimuth, Length: 1440, dtype: float64"
      ]
     },
     "execution_count": 5,
     "metadata": {},
     "output_type": "execute_result"
    }
   ],
   "source": [
    "# Phi_sol (solens azimuthvinkler)\n",
    "phi_sol = solpos.loc[\"2024-04-20\"].azimuth\n",
    "solpos.loc[\"2024-04-20\"].azimuth"
   ]
  },
  {
   "cell_type": "code",
   "execution_count": 6,
   "id": "d48e6dc7",
   "metadata": {},
   "outputs": [],
   "source": [
    "def solar_panel_projection(theta_sol,phi_sol, theta_panel, phi_panel): # fra tidligere opgave (Koordinatsystemer) \n",
    "    # Opstille sol retning vectores (N, 3)\n",
    "    u_s = np.stack([np.sin(theta_sol) * np.cos(phi_sol), np.sin(theta_sol) * np.sin(phi_sol), np.cos(theta_sol)], axis=0)\n",
    "\n",
    "    # Opstille panel retning vectors (N, 3)\n",
    "    u_p = np.stack([np.sin(theta_panel) * np.cos(phi_panel), np.sin(theta_panel) * np.sin(phi_panel), np.cos(theta_panel)])\n",
    "\n",
    "    # Compute prikprodukt for hver par\n",
    "    dot_products = np.sum(u_s * u_p , axis=0)\n",
    "\n",
    "    # Vi bruger np.maximum til at sammenligne værdier af prikprodukter med 0, så den giver den største værdi\n",
    "    return np.maximum(dot_products, 0)\n",
    "\n",
    "# Bemærk at denne funktion ændres lidt længere nede og bruges derfor ikke"
   ]
  },
  {
   "cell_type": "code",
   "execution_count": 11,
   "id": "7b481833",
   "metadata": {},
   "outputs": [],
   "source": [
    "# Lav en Python funktion som kan udregne fluxen \n",
    "\n",
    "def beregn_flux_per_minut(theta_sol, phi_sol, theta_panel, phi_panel, solar_panel_projection): # Den første funktion som vi ikke bruger\n",
    "    \"\"\"\n",
    "    Beregner solens flux på solpanelet for hvert minut, givet solens og panelets retninger.\n",
    "    \n",
    "    Parametre:\n",
    "    - theta_sol: array af solens zenitvinkler (radianer)\n",
    "    - phi_sol: array af solens azimuthvinkler (radianer)\n",
    "    - theta_panel: konstant eller array for panelets zenitvinkel (radianer)\n",
    "    - phi_panel: konstant eller array for panelets azimuthvinkel (radianer)\n",
    "    - solar_panel_projection: funktion, der returnerer projektionen af solens vektor på panelets normal\n",
    "\n",
    "    Returnerer:\n",
    "    - flux_array: array af fluxværdier (én pr. minut)\n",
    "    \"\"\"\n",
    "    flux_array = np.zeros_like(theta_sol)\n",
    "\n",
    "    # Loop over alle tidspunkter\n",
    "    for i in range(len(theta_sol)):\n",
    "        if theta_sol[i] <= np.pi / 2:\n",
    "            flux_array[i] = solar_panel_projection(theta_sol[i], phi_sol[i], theta_panel, phi_panel)\n",
    "        else:\n",
    "            flux_array[i] = 0.0  # Solen under horisonten\n",
    "\n",
    "    return flux_array\n",
    "\n",
    "\n",
    "\n",
    "def beregn_flux_per_minut(theta_sol, phi_sol, theta_panel, phi_panel, solar_panel_projection): # En anden funktion som vi hellere ikke bruger\n",
    "    # Sæt flux til 0 hvor solen er under horisonten\n",
    "    mask = theta_sol <= np.pi / 2\n",
    "\n",
    "    # Initialiser output-array\n",
    "    flux_array = np.zeros_like(theta_sol)\n",
    "\n",
    "    # Kun brug gyldige (dagslys) værdier\n",
    "    flux_array[mask] = solar_panel_projection(\n",
    "        theta_sol[mask], phi_sol[mask], theta_panel, phi_panel\n",
    "    )\n",
    "\n",
    "    return flux_array\n",
    "\n",
    "\n",
    "# Den sidste funktion som vi bruger (ikke længere en funktion men faktisk en variabel efter ChatGPT ændringer)\n",
    "flux_array = np.where(\n",
    "    theta_sol <= np.pi / 2,\n",
    "    solar_panel_projection(theta_sol, phi_sol, theta_panel, phi_panel),\n",
    "    0.0)\n",
    "\n",
    "# Bemærk at sidste funktion(variabel) ikke kan indlæses da theta_panel og phi_panel først er defineret længere nede"
   ]
  },
  {
   "cell_type": "code",
   "execution_count": 8,
   "id": "4f6acb46",
   "metadata": {},
   "outputs": [],
   "source": [
    "from scipy import integrate\n",
    "# flux = np.array(...)  # fra forrige opgave\n",
    "\n",
    "# husk at tage højde for panelets effektivitet, jvf standard antagelserne\n",
    "\n",
    "# dx=60 since there are 60 s between time samples\n",
    "\n",
    "# Udkommenter\n",
    "# integral_value = integrate.simpson(..., dx=60)\n",
    "# integral_value"
   ]
  },
  {
   "cell_type": "markdown",
   "id": "910b9de8",
   "metadata": {},
   "source": [
    "##### Udregn energiproduktionen for den 20 april 2024 for hver heltalsvinkel fra 0-90 grader hvoraf theta_panel = 180 grader"
   ]
  },
  {
   "cell_type": "code",
   "execution_count": 10,
   "id": "525ca57e",
   "metadata": {},
   "outputs": [
    {
     "data": {
      "text/plain": [
       "28212.06329306069"
      ]
     },
     "execution_count": 10,
     "metadata": {},
     "output_type": "execute_result"
    }
   ],
   "source": [
    "# Konstanter for panelets orientering (i radianer)\n",
    "theta_panel = np.deg2rad(30)   # Hældning (f.eks. 30 grader)\n",
    "phi_panel = np.deg2rad(180)    # Mod syd (azimuth = 180°)\n",
    "\n",
    "# Hent soldata (laves til radianer)\n",
    "theta_sol = np.deg2rad(solpos.loc[\"2024-04-20\"].zenith.values)\n",
    "phi_sol = np.deg2rad(solpos.loc[\"2024-04-20\"].azimuth.values)\n",
    "\n",
    "\n",
    "def solar_panel_projection(theta_sol, phi_sol, theta_panel, phi_panel): # ChatGPT har ændret lidt i den\n",
    "    # Sørg for at input er arrays\n",
    "    theta_sol = np.asarray(theta_sol)\n",
    "    phi_sol = np.asarray(phi_sol)\n",
    "\n",
    "    # Retningsvektorer for sol og panel\n",
    "    u_s = np.stack([\n",
    "        np.sin(theta_sol) * np.cos(phi_sol),\n",
    "        np.sin(theta_sol) * np.sin(phi_sol),\n",
    "        np.cos(theta_sol)\n",
    "    ], axis=-1)\n",
    "\n",
    "    u_p = np.array([\n",
    "        np.sin(theta_panel) * np.cos(phi_panel),\n",
    "        np.sin(theta_panel) * np.sin(phi_panel),\n",
    "        np.cos(theta_panel)\n",
    "    ])\n",
    "\n",
    "    dot_products = np.sum(u_s * u_p, axis=-1)\n",
    "    return np.maximum(dot_products, 0)\n",
    "\n",
    "\n",
    "flux_array = np.where(\n",
    "    theta_sol <= np.pi / 2,\n",
    "    solar_panel_projection(theta_sol, phi_sol, theta_panel, phi_panel),\n",
    "    0.0)\n",
    "\n",
    "integrate.simpson(flux_array, dx=60)\n"
   ]
  },
  {
   "cell_type": "markdown",
   "id": "85c7d1f7",
   "metadata": {},
   "source": [
    "#### Tjek gennem graf (vist af hjælpelærer)"
   ]
  },
  {
   "cell_type": "code",
   "execution_count": 13,
   "id": "662c519c",
   "metadata": {},
   "outputs": [
    {
     "name": "stdout",
     "output_type": "stream",
     "text": [
      "DatetimeIndex(['2024-04-20 00:00:00+02:00', '2024-04-20 00:01:00+02:00',\n",
      "               '2024-04-20 00:02:00+02:00', '2024-04-20 00:03:00+02:00',\n",
      "               '2024-04-20 00:04:00+02:00', '2024-04-20 00:05:00+02:00',\n",
      "               '2024-04-20 00:06:00+02:00', '2024-04-20 00:07:00+02:00',\n",
      "               '2024-04-20 00:08:00+02:00', '2024-04-20 00:09:00+02:00',\n",
      "               ...\n",
      "               '2024-04-20 23:50:00+02:00', '2024-04-20 23:51:00+02:00',\n",
      "               '2024-04-20 23:52:00+02:00', '2024-04-20 23:53:00+02:00',\n",
      "               '2024-04-20 23:54:00+02:00', '2024-04-20 23:55:00+02:00',\n",
      "               '2024-04-20 23:56:00+02:00', '2024-04-20 23:57:00+02:00',\n",
      "               '2024-04-20 23:58:00+02:00', '2024-04-20 23:59:00+02:00'],\n",
      "              dtype='datetime64[ns, Europe/Copenhagen]', length=1440, freq='min')\n"
     ]
    }
   ],
   "source": [
    "time_index = solpos.loc[\"2024-04-20\"].index\n",
    "print(time_index)\n",
    "\n",
    "array = np.array([])\n",
    "\n",
    "for ti in time_index:\n",
    "    array = np.append(array,ti.hour+ ti.minute/60)"
   ]
  },
  {
   "cell_type": "code",
   "execution_count": 14,
   "id": "584dffaf",
   "metadata": {},
   "outputs": [
    {
     "data": {
      "text/plain": [
       "[<matplotlib.lines.Line2D at 0x14c1384d0>]"
      ]
     },
     "execution_count": 14,
     "metadata": {},
     "output_type": "execute_result"
    },
    {
     "data": {
      "image/png": "[encoded data removed]",
      "text/plain": [
       "<Figure size 640x480 with 1 Axes>"
      ]
     },
     "metadata": {},
     "output_type": "display_data"
    }
   ],
   "source": [
    "sol = solar_panel_projection(theta_sol, phi_sol, theta_panel, phi_panel)\n",
    "\n",
    "plt.plot(array,sol)"
   ]
  },
  {
   "cell_type": "code",
   "execution_count": null,
   "id": "551ee8bd",
   "metadata": {},
   "outputs": [],
   "source": []
  },
  {
   "cell_type": "markdown",
   "id": "eb07e409",
   "metadata": {},
   "source": [
    "### Ny kode"
   ]
  },
  {
   "cell_type": "code",
   "execution_count": 33,
   "id": "edfcc3cd",
   "metadata": {},
   "outputs": [],
   "source": [
    "theta_sol = np.deg2rad(solpos.loc[\"2024-04-20\"].zenith.values)\n",
    "phi_sol = np.deg2rad(solpos.loc[\"2024-04-20\"].azimuth.values)"
   ]
  },
  {
   "cell_type": "code",
   "execution_count": 35,
   "id": "a2836174",
   "metadata": {},
   "outputs": [],
   "source": [
    "def solar_panel_projection(theta_sol, phi_sol, theta_panel, phi_panel):\n",
    "    theta_sol = np.asarray(theta_sol)\n",
    "    phi_sol = np.asarray(phi_sol)\n",
    "\n",
    "    u_s = np.stack([\n",
    "        np.sin(theta_sol) * np.cos(phi_sol),\n",
    "        np.sin(theta_sol) * np.sin(phi_sol),\n",
    "        np.cos(theta_sol)\n",
    "    ], axis=-1)\n",
    "\n",
    "    u_p = np.array([\n",
    "        np.sin(theta_panel) * np.cos(phi_panel),\n",
    "        np.sin(theta_panel) * np.sin(phi_panel),\n",
    "        np.cos(theta_panel)\n",
    "    ])\n",
    "\n",
    "    dot_products = np.sum(u_s * u_p, axis=-1)\n",
    "    return np.maximum(dot_products, 0)"
   ]
  },
  {
   "cell_type": "code",
   "execution_count": 36,
   "id": "45521257",
   "metadata": {},
   "outputs": [],
   "source": [
    "flux_array = np.where(\n",
    "    theta_sol <= np.pi / 2,\n",
    "    solar_panel_projection(theta_sol, phi_sol, theta_panel, phi_panel),\n",
    "    0.0)"
   ]
  },
  {
   "cell_type": "code",
   "execution_count": 37,
   "id": "114dde3d",
   "metadata": {},
   "outputs": [],
   "source": [
    "from scipy import integrate\n",
    "\n",
    "energi = integrate.simpson(flux_array, dx=60)  # i [W·s] eller Joule"
   ]
  },
  {
   "cell_type": "code",
   "execution_count": 38,
   "id": "6d6e6d91",
   "metadata": {},
   "outputs": [
    {
     "data": {
      "text/plain": [
       "4.836338779081917"
      ]
     },
     "execution_count": 38,
     "metadata": {},
     "output_type": "execute_result"
    }
   ],
   "source": [
    "energi_Wh = energi / 3600\n",
    "energi_Wh"
   ]
  },
  {
   "cell_type": "code",
   "execution_count": 40,
   "id": "6b984f80",
   "metadata": {},
   "outputs": [],
   "source": [
    "phi_panel = np.deg2rad(180)\n",
    "energier = []\n",
    "\n",
    "for vinkel in range(0, 91):  # 0° til 90°\n",
    "    theta_panel = np.deg2rad(vinkel)\n",
    "    flux_array = np.where(\n",
    "        theta_sol <= np.pi / 2,\n",
    "        solar_panel_projection(theta_sol, phi_sol, theta_panel, phi_panel),\n",
    "        0.0)\n",
    "    energi = integrate.simpson(flux_array, dx=60)\n",
    "    energier.append(energi)"
   ]
  },
  {
   "cell_type": "code",
   "execution_count": 39,
   "id": "c0f62db3",
   "metadata": {},
   "outputs": [
    {
     "data": {
      "image/png": "[encoded data removed]",
      "text/plain": [
       "<Figure size 640x480 with 1 Axes>"
      ]
     },
     "metadata": {},
     "output_type": "display_data"
    }
   ],
   "source": [
    "time_index = solpos.loc[\"2024-04-20\"].index\n",
    "time_array = np.array([t.hour + t.minute/60 for t in time_index])\n",
    "\n",
    "flux = solar_panel_projection(theta_sol, phi_sol, np.deg2rad(30), np.deg2rad(180))\n",
    "plt.plot(time_array, flux)\n",
    "plt.xlabel(\"Tid (timer)\")\n",
    "plt.ylabel(\"Flux\")\n",
    "plt.title(\"Flux på solpanel den 20. april 2024\")\n",
    "plt.grid()\n",
    "plt.show()"
   ]
  }
 ],
 "metadata": {
  "kernelspec": {
   "display_name": "base",
   "language": "python",
   "name": "python3"
  },
  "language_info": {
   "codemirror_mode": {
    "name": "ipython",
    "version": 3
   },
   "file_extension": ".py",
   "mimetype": "text/x-python",
   "name": "python",
   "nbconvert_exporter": "python",
   "pygments_lexer": "ipython3",
   "version": "3.11.9"
  }
 },
 "nbformat": 4,
 "nbformat_minor": 5
}
