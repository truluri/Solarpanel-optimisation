{
 "cells": [
  {
   "cell_type": "code",
   "execution_count": 10,
   "id": "07b2df49",
   "metadata": {},
   "outputs": [],
   "source": [
    "import pandas as pd\n",
    "import pvlib\n",
    "from pvlib.location import Location\n",
    "import matplotlib.pyplot as plt\n",
    "import numpy as np\n",
    "from sympy import*\n",
    "from scipy.optimize import curve_fit\n",
    "from scipy import integrate # indlæses også senere i selve opgaven"
   ]
  },
  {
   "cell_type": "code",
   "execution_count": null,
   "id": "1ddab393",
   "metadata": {},
   "outputs": [],
   "source": [
    "tidszone = \"Europe/Copenhagen\"\n",
    "start_dato = \"2024-01-01\"\n",
    "slut_dato = \"2024-12-31\"\n",
    "delta_tid = \"H\"  # \"Min\", \"H\",\n",
    "\n",
    "# Definition of Location object. Coordinates and elevation of Amager, Copenhagen (Denmark)\n",
    "site = Location(\n",
    "    55.47092, 12.31168, tidszone, 10, \"Danmarks Tekniske Universitet (DK)\"\n",
    ")  # latitude, longitude, time_zone, altitude, name\n",
    "\n",
    "# Højde er ca 50 m MOH\n",
    "\n",
    "# Definition of a time range of simulation\n",
    "times = pd.date_range(\n",
    "    start_dato + \" 00:00:00\", slut_dato + \" 23:59:59\", inclusive=\"left\", freq=delta_tid, tz=tidszone\n",
    ")\n",
    "\n",
    "# Estimate Solar Position with the 'Location' object\n",
    "solpos = site.get_solarposition(times)\n"
   ]
  },
  {
   "cell_type": "code",
   "execution_count": null,
   "id": "ba34bdf5",
   "metadata": {},
   "outputs": [],
   "source": []
  },
  {
   "cell_type": "markdown",
   "id": "eb07e409",
   "metadata": {},
   "source": [
    "### Ny kode"
   ]
  },
  {
   "cell_type": "code",
   "execution_count": 12,
   "id": "edfcc3cd",
   "metadata": {},
   "outputs": [],
   "source": [
    "theta_sol = np.deg2rad(solpos.loc[\"2024-04-20\"].zenith.values)\n",
    "phi_sol = np.deg2rad(solpos.loc[\"2024-04-20\"].azimuth.values)"
   ]
  },
  {
   "cell_type": "code",
   "execution_count": 28,
   "id": "a2836174",
   "metadata": {},
   "outputs": [],
   "source": [
    "def solar_panel_projection(theta_sol, phi_sol, theta_panel, phi_panel):\n",
    "    theta_sol = np.asarray(theta_sol)\n",
    "    phi_sol = np.asarray(phi_sol)\n",
    "    nLB = 0.185*1.63 # n er overførelsen, altså hvor meget energi fra solen er arbejdsom, målt fra når den rammer pannelet til den kommer ind i et andet kredsløb\n",
    "    u_s = np.stack([\n",
    "        np.sin(theta_sol) * np.cos(phi_sol),\n",
    "        np.sin(theta_sol) * np.sin(phi_sol),\n",
    "        np.cos(theta_sol)\n",
    "    ], axis=-1)\n",
    "\n",
    "    u_p = np.array([\n",
    "        np.sin(theta_panel) * np.cos(phi_panel),\n",
    "        np.sin(theta_panel) * np.sin(phi_panel),\n",
    "        np.cos(theta_panel)\n",
    "    ])\n",
    "    dot_products = nLB * np.sum(u_s * u_p, axis=-1)\n",
    "    return np.maximum(dot_products, 0)"
   ]
  },
  {
   "cell_type": "code",
   "execution_count": 29,
   "id": "45521257",
   "metadata": {},
   "outputs": [],
   "source": [
    "flux_array = np.where(\n",
    "    theta_sol <= np.pi / 2,\n",
    "    solar_panel_projection(theta_sol, phi_sol, theta_panel, phi_panel),\n",
    "    0.0)"
   ]
  },
  {
   "cell_type": "code",
   "execution_count": 30,
   "id": "114dde3d",
   "metadata": {},
   "outputs": [],
   "source": [
    "from scipy import integrate\n",
    "\n",
    "energi = integrate.simpson(flux_array, dx=60)  # i [W·s] eller Joule"
   ]
  },
  {
   "cell_type": "code",
   "execution_count": 31,
   "id": "6d6e6d91",
   "metadata": {},
   "outputs": [
    {
     "data": {
      "text/plain": [
       "1.4899159141520846"
      ]
     },
     "execution_count": 31,
     "metadata": {},
     "output_type": "execute_result"
    }
   ],
   "source": [
    "energi_Wh = energi / 3600\n",
    "energi_Wh"
   ]
  },
  {
   "cell_type": "code",
   "execution_count": null,
   "id": "6b984f80",
   "metadata": {},
   "outputs": [
    {
     "data": {
      "text/plain": [
       "[1.945269744740681,\n",
       " 1.9672226744095207,\n",
       " 1.9887339219509461,\n",
       " 2.009786592149519,\n",
       " 2.030368530924662,\n",
       " 2.050458326780958,\n",
       " 2.0700424143550267,\n",
       " 2.0891079202018115,\n",
       " 2.107642215548396,\n",
       " 2.125632926250459,\n",
       " 2.1430679426689725,\n",
       " 2.159941589157176,\n",
       " 2.1762446646031397,\n",
       " 2.191960232170053,\n",
       " 2.20708548742654,\n",
       " 2.221604458433866,\n",
       " 2.235525251650154,\n",
       " 2.2488264885736244,\n",
       " 2.2615039552446428,\n",
       " 2.2735556072793304,\n",
       " 2.2849729717256295,\n",
       " 2.29574497682941,\n",
       " 2.305879872069957,\n",
       " 2.3153598577214876,\n",
       " 2.3241817798316657,\n",
       " 2.3323506146157627,\n",
       " 2.339849374515193,\n",
       " 2.346687484070725,\n",
       " 2.352847937825861,\n",
       " 2.35834128273135,\n",
       " 2.3631521350062363,\n",
       " 2.3672897716393617,\n",
       " 2.3707404071257825,\n",
       " 2.3735130545816094,\n",
       " 2.3755955281465866,\n",
       " 2.3769972879017085,\n",
       " 2.3777059214010197,\n",
       " 2.3777312156903907,\n",
       " 2.3770619789471867,\n",
       " 2.37570779979359,\n",
       " 2.373658685184238,\n",
       " 2.3709240223117733,\n",
       " 2.3674961182107017,\n",
       " 2.3633830200770896,\n",
       " 2.3585817067415586,\n",
       " 2.3530929134346397,\n",
       " 2.3469217874330695,\n",
       " 2.340062474206468,\n",
       " 2.3325236323468603,\n",
       " 2.3243006772373893,\n",
       " 2.3154037114354757,\n",
       " 2.305833294131636,\n",
       " 2.2955892265633344,\n",
       " 2.284677254067688,\n",
       " 2.273095785345554,\n",
       " 2.2608527075688576,\n",
       " 2.2479494740794026,\n",
       " 2.234394675877029,\n",
       " 2.220190384026319,\n",
       " 2.2053371187811925,\n",
       " 2.1898421898399643,\n",
       " 2.1737081681209074,\n",
       " 2.1569421707042262,\n",
       " 2.1395536832989634,\n",
       " 2.1215438555440174,\n",
       " 2.1029180398730882,\n",
       " 2.0836816970886023,\n",
       " 2.0638413058165974,\n",
       " 2.0434034739561393,\n",
       " 2.022374444004648,\n",
       " 2.0007641920215016,\n",
       " 1.9785793139726287,\n",
       " 1.9558237685556856,\n",
       " 1.9325069229404408,\n",
       " 1.908634398933924,\n",
       " 1.88421664533684,\n",
       " 1.8592590429427167,\n",
       " 1.8337730992075267,\n",
       " 1.807763953097435,\n",
       " 1.7812441462290383,\n",
       " 1.7542185749734847,\n",
       " 1.7267007891318074,\n",
       " 1.6986954417458704,\n",
       " 1.6702170634430893,\n",
       " 1.6412700632653532,\n",
       " 1.6118699238559886,\n",
       " 1.5820208095966541,\n",
       " 1.551739961787582,\n",
       " 1.521034679235981,\n",
       " 1.4899159141520846]"
      ]
     },
     "execution_count": 52,
     "metadata": {},
     "output_type": "execute_result"
    }
   ],
   "source": [
    "phi_panel = np.deg2rad(180)\n",
    "energier = []\n",
    "wh_energier = []\n",
    "\n",
    "for vinkel in range(0, 90):  # 0° til 90°\n",
    "    theta_panel = np.deg2rad(vinkel)\n",
    "    flux_array = np.where(\n",
    "        theta_sol <= np.pi / 2,\n",
    "        solar_panel_projection(theta_sol, phi_sol, theta_panel, phi_panel),\n",
    "        0.0)\n",
    "    energi = integrate.simpson(flux_array, dx=3600)\n",
    "    energier.append(energi)\n",
    "    wh_energier.append(energi/3600)\n",
    "\n",
    "\n",
    "energier # i enheden Joule pr sekunder\n",
    "wh_energier # i enheden kWh "
   ]
  },
  {
   "cell_type": "code",
   "execution_count": 54,
   "id": "c0f62db3",
   "metadata": {},
   "outputs": [
    {
     "ename": "ValueError",
     "evalue": "x and y must have same first dimension, but have shapes (24,) and (1440,)",
     "output_type": "error",
     "traceback": [
      "\u001b[31m---------------------------------------------------------------------------\u001b[39m",
      "\u001b[31mValueError\u001b[39m                                Traceback (most recent call last)",
      "\u001b[36mCell\u001b[39m\u001b[36m \u001b[39m\u001b[32mIn[54]\u001b[39m\u001b[32m, line 5\u001b[39m\n\u001b[32m      2\u001b[39m time_array = np.array([t.hour + t.minute/\u001b[32m60\u001b[39m \u001b[38;5;28;01mfor\u001b[39;00m t \u001b[38;5;129;01min\u001b[39;00m time_index])\n\u001b[32m      4\u001b[39m flux = solar_panel_projection(theta_sol, phi_sol, np.deg2rad(\u001b[32m30\u001b[39m), np.deg2rad(\u001b[32m180\u001b[39m))\n\u001b[32m----> \u001b[39m\u001b[32m5\u001b[39m \u001b[43mplt\u001b[49m\u001b[43m.\u001b[49m\u001b[43mplot\u001b[49m\u001b[43m(\u001b[49m\u001b[43mtime_array\u001b[49m\u001b[43m,\u001b[49m\u001b[43m \u001b[49m\u001b[43mflux\u001b[49m\u001b[43m)\u001b[49m\n\u001b[32m      6\u001b[39m plt.xlabel(\u001b[33m\"\u001b[39m\u001b[33mTid (timer)\u001b[39m\u001b[33m\"\u001b[39m)\n\u001b[32m      7\u001b[39m plt.ylabel(\u001b[33m\"\u001b[39m\u001b[33mFlux\u001b[39m\u001b[33m\"\u001b[39m)\n",
      "\u001b[36mFile \u001b[39m\u001b[32m~/desk/mat1b10002/exam/Solarpanel-optimisation/.venv/lib/python3.12/site-packages/matplotlib/pyplot.py:3794\u001b[39m, in \u001b[36mplot\u001b[39m\u001b[34m(scalex, scaley, data, *args, **kwargs)\u001b[39m\n\u001b[32m   3786\u001b[39m \u001b[38;5;129m@_copy_docstring_and_deprecators\u001b[39m(Axes.plot)\n\u001b[32m   3787\u001b[39m \u001b[38;5;28;01mdef\u001b[39;00m\u001b[38;5;250m \u001b[39m\u001b[34mplot\u001b[39m(\n\u001b[32m   3788\u001b[39m     *args: \u001b[38;5;28mfloat\u001b[39m | ArrayLike | \u001b[38;5;28mstr\u001b[39m,\n\u001b[32m   (...)\u001b[39m\u001b[32m   3792\u001b[39m     **kwargs,\n\u001b[32m   3793\u001b[39m ) -> \u001b[38;5;28mlist\u001b[39m[Line2D]:\n\u001b[32m-> \u001b[39m\u001b[32m3794\u001b[39m     \u001b[38;5;28;01mreturn\u001b[39;00m \u001b[43mgca\u001b[49m\u001b[43m(\u001b[49m\u001b[43m)\u001b[49m\u001b[43m.\u001b[49m\u001b[43mplot\u001b[49m\u001b[43m(\u001b[49m\n\u001b[32m   3795\u001b[39m \u001b[43m        \u001b[49m\u001b[43m*\u001b[49m\u001b[43margs\u001b[49m\u001b[43m,\u001b[49m\n\u001b[32m   3796\u001b[39m \u001b[43m        \u001b[49m\u001b[43mscalex\u001b[49m\u001b[43m=\u001b[49m\u001b[43mscalex\u001b[49m\u001b[43m,\u001b[49m\n\u001b[32m   3797\u001b[39m \u001b[43m        \u001b[49m\u001b[43mscaley\u001b[49m\u001b[43m=\u001b[49m\u001b[43mscaley\u001b[49m\u001b[43m,\u001b[49m\n\u001b[32m   3798\u001b[39m \u001b[43m        \u001b[49m\u001b[43m*\u001b[49m\u001b[43m*\u001b[49m\u001b[43m(\u001b[49m\u001b[43m{\u001b[49m\u001b[33;43m\"\u001b[39;49m\u001b[33;43mdata\u001b[39;49m\u001b[33;43m\"\u001b[39;49m\u001b[43m:\u001b[49m\u001b[43m \u001b[49m\u001b[43mdata\u001b[49m\u001b[43m}\u001b[49m\u001b[43m \u001b[49m\u001b[38;5;28;43;01mif\u001b[39;49;00m\u001b[43m \u001b[49m\u001b[43mdata\u001b[49m\u001b[43m \u001b[49m\u001b[38;5;129;43;01mis\u001b[39;49;00m\u001b[43m \u001b[49m\u001b[38;5;129;43;01mnot\u001b[39;49;00m\u001b[43m \u001b[49m\u001b[38;5;28;43;01mNone\u001b[39;49;00m\u001b[43m \u001b[49m\u001b[38;5;28;43;01melse\u001b[39;49;00m\u001b[43m \u001b[49m\u001b[43m{\u001b[49m\u001b[43m}\u001b[49m\u001b[43m)\u001b[49m\u001b[43m,\u001b[49m\n\u001b[32m   3799\u001b[39m \u001b[43m        \u001b[49m\u001b[43m*\u001b[49m\u001b[43m*\u001b[49m\u001b[43mkwargs\u001b[49m\u001b[43m,\u001b[49m\n\u001b[32m   3800\u001b[39m \u001b[43m    \u001b[49m\u001b[43m)\u001b[49m\n",
      "\u001b[36mFile \u001b[39m\u001b[32m~/desk/mat1b10002/exam/Solarpanel-optimisation/.venv/lib/python3.12/site-packages/matplotlib/axes/_axes.py:1779\u001b[39m, in \u001b[36mAxes.plot\u001b[39m\u001b[34m(self, scalex, scaley, data, *args, **kwargs)\u001b[39m\n\u001b[32m   1536\u001b[39m \u001b[38;5;250m\u001b[39m\u001b[33;03m\"\"\"\u001b[39;00m\n\u001b[32m   1537\u001b[39m \u001b[33;03mPlot y versus x as lines and/or markers.\u001b[39;00m\n\u001b[32m   1538\u001b[39m \n\u001b[32m   (...)\u001b[39m\u001b[32m   1776\u001b[39m \u001b[33;03m(``'green'``) or hex strings (``'#008000'``).\u001b[39;00m\n\u001b[32m   1777\u001b[39m \u001b[33;03m\"\"\"\u001b[39;00m\n\u001b[32m   1778\u001b[39m kwargs = cbook.normalize_kwargs(kwargs, mlines.Line2D)\n\u001b[32m-> \u001b[39m\u001b[32m1779\u001b[39m lines = [*\u001b[38;5;28mself\u001b[39m._get_lines(\u001b[38;5;28mself\u001b[39m, *args, data=data, **kwargs)]\n\u001b[32m   1780\u001b[39m \u001b[38;5;28;01mfor\u001b[39;00m line \u001b[38;5;129;01min\u001b[39;00m lines:\n\u001b[32m   1781\u001b[39m     \u001b[38;5;28mself\u001b[39m.add_line(line)\n",
      "\u001b[36mFile \u001b[39m\u001b[32m~/desk/mat1b10002/exam/Solarpanel-optimisation/.venv/lib/python3.12/site-packages/matplotlib/axes/_base.py:296\u001b[39m, in \u001b[36m_process_plot_var_args.__call__\u001b[39m\u001b[34m(self, axes, data, *args, **kwargs)\u001b[39m\n\u001b[32m    294\u001b[39m     this += args[\u001b[32m0\u001b[39m],\n\u001b[32m    295\u001b[39m     args = args[\u001b[32m1\u001b[39m:]\n\u001b[32m--> \u001b[39m\u001b[32m296\u001b[39m \u001b[38;5;28;01myield from\u001b[39;00m \u001b[38;5;28;43mself\u001b[39;49m\u001b[43m.\u001b[49m\u001b[43m_plot_args\u001b[49m\u001b[43m(\u001b[49m\n\u001b[32m    297\u001b[39m \u001b[43m    \u001b[49m\u001b[43maxes\u001b[49m\u001b[43m,\u001b[49m\u001b[43m \u001b[49m\u001b[43mthis\u001b[49m\u001b[43m,\u001b[49m\u001b[43m \u001b[49m\u001b[43mkwargs\u001b[49m\u001b[43m,\u001b[49m\u001b[43m \u001b[49m\u001b[43mambiguous_fmt_datakey\u001b[49m\u001b[43m=\u001b[49m\u001b[43mambiguous_fmt_datakey\u001b[49m\u001b[43m)\u001b[49m\n",
      "\u001b[36mFile \u001b[39m\u001b[32m~/desk/mat1b10002/exam/Solarpanel-optimisation/.venv/lib/python3.12/site-packages/matplotlib/axes/_base.py:486\u001b[39m, in \u001b[36m_process_plot_var_args._plot_args\u001b[39m\u001b[34m(self, axes, tup, kwargs, return_kwargs, ambiguous_fmt_datakey)\u001b[39m\n\u001b[32m    483\u001b[39m     axes.yaxis.update_units(y)\n\u001b[32m    485\u001b[39m \u001b[38;5;28;01mif\u001b[39;00m x.shape[\u001b[32m0\u001b[39m] != y.shape[\u001b[32m0\u001b[39m]:\n\u001b[32m--> \u001b[39m\u001b[32m486\u001b[39m     \u001b[38;5;28;01mraise\u001b[39;00m \u001b[38;5;167;01mValueError\u001b[39;00m(\u001b[33mf\u001b[39m\u001b[33m\"\u001b[39m\u001b[33mx and y must have same first dimension, but \u001b[39m\u001b[33m\"\u001b[39m\n\u001b[32m    487\u001b[39m                      \u001b[33mf\u001b[39m\u001b[33m\"\u001b[39m\u001b[33mhave shapes \u001b[39m\u001b[38;5;132;01m{\u001b[39;00mx.shape\u001b[38;5;132;01m}\u001b[39;00m\u001b[33m and \u001b[39m\u001b[38;5;132;01m{\u001b[39;00my.shape\u001b[38;5;132;01m}\u001b[39;00m\u001b[33m\"\u001b[39m)\n\u001b[32m    488\u001b[39m \u001b[38;5;28;01mif\u001b[39;00m x.ndim > \u001b[32m2\u001b[39m \u001b[38;5;129;01mor\u001b[39;00m y.ndim > \u001b[32m2\u001b[39m:\n\u001b[32m    489\u001b[39m     \u001b[38;5;28;01mraise\u001b[39;00m \u001b[38;5;167;01mValueError\u001b[39;00m(\u001b[33mf\u001b[39m\u001b[33m\"\u001b[39m\u001b[33mx and y can be no greater than 2D, but have \u001b[39m\u001b[33m\"\u001b[39m\n\u001b[32m    490\u001b[39m                      \u001b[33mf\u001b[39m\u001b[33m\"\u001b[39m\u001b[33mshapes \u001b[39m\u001b[38;5;132;01m{\u001b[39;00mx.shape\u001b[38;5;132;01m}\u001b[39;00m\u001b[33m and \u001b[39m\u001b[38;5;132;01m{\u001b[39;00my.shape\u001b[38;5;132;01m}\u001b[39;00m\u001b[33m\"\u001b[39m)\n",
      "\u001b[31mValueError\u001b[39m: x and y must have same first dimension, but have shapes (24,) and (1440,)"
     ]
    },
    {
     "data": {
      "image/png": "[encoded data removed]",
      "text/plain": [
       "<Figure size 640x480 with 1 Axes>"
      ]
     },
     "metadata": {},
     "output_type": "display_data"
    }
   ],
   "source": [
    "time_index = solpos.loc[\"2024-04-20\"].index\n",
    "time_array = np.array([t.hour + t.minute/60 for t in time_index])\n",
    "\n",
    "flux = solar_panel_projection(theta_sol, phi_sol, np.deg2rad(30), np.deg2rad(180))\n",
    "plt.plot(time_array, flux)\n",
    "plt.xlabel(\"Tid (timer)\")\n",
    "plt.ylabel(\"Flux\")\n",
    "plt.title(\"Flux på solpanel den 20. april 2024\")\n",
    "plt.grid()\n",
    "plt.show()"
   ]
  },
  {
   "cell_type": "code",
   "execution_count": 37,
   "id": "651a53bc",
   "metadata": {},
   "outputs": [
    {
     "data": {
      "image/png": "[encoded data removed]",
      "text/plain": [
       "<Figure size 640x480 with 1 Axes>"
      ]
     },
     "metadata": {},
     "output_type": "display_data"
    },
    {
     "data": {
      "text/plain": [
       "37"
      ]
     },
     "execution_count": 37,
     "metadata": {},
     "output_type": "execute_result"
    }
   ],
   "source": [
    "hældninger = np.arange(0, 90)  # 0° til 90°\n",
    "plt.plot(hældninger, wh_energier, marker='o')\n",
    "plt.xlabel(\"Panelhældning θ (grader)\")\n",
    "plt.ylabel(\"Energiproduktion (KWh)\")\n",
    "plt.title(\"Energiproduktion den 20. april 2024\\nfor forskellige panelhældninger\")\n",
    "plt.grid(True)\n",
    "plt.show()\n",
    "np.argmax(wh_energier)"
   ]
  },
  {
   "cell_type": "code",
   "execution_count": 64,
   "id": "0bbc6344",
   "metadata": {},
   "outputs": [
    {
     "name": "stdout",
     "output_type": "stream",
     "text": [
      "                  HourUTC               HourDK PriceArea  SpotPriceDKK  \\\n",
      "0     2024-12-31T21:00:00  2024-12-31T22:00:00       DK2     59.529999   \n",
      "1     2024-12-31T20:00:00  2024-12-31T21:00:00       DK2    117.120003   \n",
      "2     2024-12-31T19:00:00  2024-12-31T20:00:00       DK2    168.509995   \n",
      "3     2024-12-31T18:00:00  2024-12-31T19:00:00       DK2    180.820007   \n",
      "4     2024-12-31T17:00:00  2024-12-31T18:00:00       DK2    193.729996   \n",
      "...                   ...                  ...       ...           ...   \n",
      "8778  2024-01-01T03:00:00  2024-01-01T04:00:00       DK2    178.990005   \n",
      "8779  2024-01-01T02:00:00  2024-01-01T03:00:00       DK2    182.490005   \n",
      "8780  2024-01-01T01:00:00  2024-01-01T02:00:00       DK2    198.740005   \n",
      "8781  2024-01-01T00:00:00  2024-01-01T01:00:00       DK2    212.160004   \n",
      "8782  2023-12-31T23:00:00  2024-01-01T00:00:00       DK2    217.160004   \n",
      "\n",
      "      SpotPriceEUR  \n",
      "0         7.980000  \n",
      "1        15.700000  \n",
      "2        22.590000  \n",
      "3        24.240000  \n",
      "4        25.969999  \n",
      "...            ...  \n",
      "8778     24.010000  \n",
      "8779     24.480000  \n",
      "8780     26.660000  \n",
      "8781     28.459999  \n",
      "8782     29.129999  \n",
      "\n",
      "[8783 rows x 5 columns]\n"
     ]
    },
    {
     "data": {
      "text/plain": [
       "321821.8374568503"
      ]
     },
     "execution_count": 64,
     "metadata": {},
     "output_type": "execute_result"
    }
   ],
   "source": [
    "# henter pris data\n",
    "import requests\n",
    "import pandas as pd\n",
    "\n",
    "endpoint = \"https://api.energidataservice.dk/dataset/elspotprices\"\n",
    "params = {\n",
    "    \"start\": \"2024-01-01T00:00\",\n",
    "    \"end\": \"2024-12-31T23:00\",\n",
    "    \"filter\": '{\"PriceArea\":[\"DK2\"]}'  # <-- fixed JSON string\n",
    "}\n",
    "\n",
    "response = requests.get(endpoint, params=params)\n",
    "data = response.json()\n",
    "df = pd.DataFrame(data['records'])\n",
    "# Konverter evt. enheder (øre/kroner, kWh/J/MJ) hvis nødvendigt.\n",
    "# følgende er forkert, dvs. tidsrumer ganget med forskudte.\n",
    "print(df)\n",
    "energi = integrate.simpson(flux_array, dx=3600)\n",
    "energi"
   ]
  },
  {
   "cell_type": "code",
   "execution_count": 109,
   "id": "f82cfcae",
   "metadata": {},
   "outputs": [
    {
     "data": {
      "text/plain": [
       "((8783,), 8735)"
      ]
     },
     "execution_count": 109,
     "metadata": {},
     "output_type": "execute_result"
    }
   ],
   "source": [
    "# nyt solpos object, der paser til mængden fra tidligere, men med gennemsnit over timer, og mangler sidste time af 12-31, \n",
    "tidszone = \"Europe/Copenhagen\"\n",
    "start_dato = \"2024-01-01\"\n",
    "slut_dato = \"2024-12-31\"\n",
    "delta_tid = \"h\"  # \"Min\", \"H\",\n",
    "\n",
    "# Definition of Location object. Coordinates and elevation of Amager, Copenhagen (Denmark)\n",
    "site = Location(\n",
    "    55.47092, 12.31168, tidszone, 10, \"Danmarks Tekniske Universitet (DK)\"\n",
    ")  # latitude, longitude, time_zone, altitude, name\n",
    "\n",
    "# Højde er ca 50 m MOH\n",
    "\n",
    "# Definition of a time range of simulation\n",
    "times = pd.date_range(\n",
    "    start_dato + \" 00:00:00\", slut_dato + \" 22:59:59\", inclusive=\"left\", freq=delta_tid, tz=tidszone\n",
    ")\n",
    "\n",
    "# Estimate Solar Position with the 'Location' object\n",
    "solpos = site.get_solarposition(times)\n",
    "\n",
    "solpos.zenith.shape\n",
    "\n",
    "times.shape, 364*24-1\n",
    "\n",
    "\n"
   ]
  },
  {
   "cell_type": "code",
   "execution_count": 100,
   "id": "5943294d",
   "metadata": {},
   "outputs": [],
   "source": [
    "def solar_panel_projection(theta_sol, phi_sol, theta_panel, phi_panel):\n",
    "    theta_sol = np.asarray(theta_sol)\n",
    "    phi_sol = np.asarray(phi_sol)\n",
    "    nLB = 0.185*1.63 # n er overførelsen, altså hvor meget energi fra solen er arbejdsom, målt fra når den rammer pannelet til den kommer ind i et andet kredsløb\n",
    "    u_s = np.array([\n",
    "        np.sin(theta_sol) * np.cos(phi_sol),\n",
    "        np.sin(theta_sol) * np.sin(phi_sol),\n",
    "        np.cos(theta_sol)\n",
    "    ])\n",
    "\n",
    "    u_p = np.array([\n",
    "        np.sin(theta_panel) * np.cos(phi_panel),\n",
    "        np.sin(theta_panel) * np.sin(phi_panel),\n",
    "        np.cos(theta_panel)\n",
    "    ])\n",
    "\n",
    "    dot_products = nLB * u_s.T@u_p\n",
    "    return np.maximum(dot_products, 0)\n",
    "\n",
    "# solar_panel_projection(np.array([1,2,3]), np.array([1,3,3]), np.array([1]), np.array([1]))"
   ]
  },
  {
   "cell_type": "code",
   "execution_count": null,
   "id": "3b860ca9",
   "metadata": {},
   "outputs": [
    {
     "name": "stdout",
     "output_type": "stream",
     "text": [
      "[0.         0.         0.         0.         0.         0.\n",
      " 0.         0.         0.         0.         0.         0.\n",
      " 0.         0.         0.         0.17152494 0.21897085 0.25074213\n",
      " 0.26467397 0.25981655 0.23649982 0.1963111  0.         0.\n",
      " 0.         0.         0.         0.         0.         0.\n",
      " 0.         0.         0.         0.         0.         0.\n",
      " 0.         0.         0.         0.17126746 0.21885627 0.25078118\n",
      " 0.26486684 0.26015287 0.2369594  0.19686526 0.         0.\n",
      " 0.         0.         0.         0.         0.         0.\n",
      " 0.         0.         0.         0.         0.         0.\n",
      " 0.         0.         0.         0.17102712 0.21875994 0.25083859\n",
      " 0.26507715 0.26050477 0.23743184 0.19742894 0.         0.\n",
      " 0.         0.         0.         0.         0.         0.\n",
      " 0.         0.         0.         0.         0.         0.\n",
      " 0.         0.         0.         0.17080414 0.21868195 0.25091429\n",
      " 0.2653047  0.26087189 0.23791668 0.19800159 0.         0.\n",
      " 0.         0.         0.         0.         0.         0.\n",
      " 0.         0.         0.         0.         0.         0.\n",
      " 0.         0.         0.         0.17059872 0.21862236 0.2510082\n",
      " 0.26554924 0.26125386 0.23841346 0.19858268 0.         0.\n",
      " 0.         0.         0.         0.         0.         0.\n",
      " 0.         0.         0.         0.         0.         0.\n",
      " 0.         0.         0.         0.17041107 0.21858121 0.2511202\n",
      " 0.26581052 0.2616503  0.23892167 0.19917162 0.         0.\n",
      " 0.         0.         0.         0.         0.         0.\n",
      " 0.         0.         0.         0.         0.         0.\n",
      " 0.         0.         0.         0.17024137 0.21855854 0.25125016\n",
      " 0.26608825 0.26206078 0.23944079 0.19976781 0.         0.\n",
      " 0.         0.         0.         0.         0.         0.\n",
      " 0.         0.         0.         0.         0.         0.\n",
      " 0.         0.         0.         0.1700898  0.21855437 0.25139796\n",
      " 0.26638214 0.26248488 0.23997027 0.20037064 0.         0.\n",
      " 0.         0.         0.         0.         0.         0.\n",
      " 0.         0.         0.         0.         0.         0.\n",
      " 0.         0.         0.         0.16995655 0.21856872 0.25156342\n",
      " 0.26669187 0.26292214 0.24050956 0.20097947 0.         0.\n",
      " 0.         0.         0.         0.         0.         0.\n",
      " 0.         0.         0.         0.         0.         0.\n",
      " 0.         0.         0.         0.16984178 0.21860157 0.25174638\n",
      " 0.26701712 0.26337208 0.24105806 0.20159364 0.         0.\n",
      " 0.         0.         0.         0.         0.         0.\n",
      " 0.         0.         0.         0.         0.         0.\n",
      " 0.         0.         0.         0.16974566 0.21865294 0.25194666\n",
      " 0.26735753 0.26383422 0.24161518 0.20221249 0.         0.\n",
      " 0.         0.         0.         0.         0.         0.\n",
      " 0.         0.         0.         0.         0.         0.\n",
      " 0.         0.         0.         0.16966834 0.21872278 0.25216407\n",
      " 0.26771275 0.26430806 0.24218032 0.20283535 0.         0.\n",
      " 0.         0.         0.         0.         0.         0.\n",
      " 0.         0.         0.         0.         0.         0.\n",
      " 0.         0.         0.         0.16960995 0.21881107 0.25239838\n",
      " 0.26808242 0.26479311 0.24275288 0.20346156 0.14959437 0.\n",
      " 0.         0.         0.         0.         0.         0.\n",
      " 0.         0.         0.         0.         0.         0.\n",
      " 0.         0.         0.         0.16957058 0.21891773 0.25264938\n",
      " 0.26846613 0.26528885 0.24333225 0.20409046 0.15023532 0.\n",
      " 0.         0.         0.         0.         0.         0.\n",
      " 0.         0.         0.         0.         0.         0.\n",
      " 0.         0.         0.         0.16955031 0.21904266 0.25291678\n",
      " 0.26886351 0.26579476 0.24391783 0.20472141 0.15087424 0.\n",
      " 0.         0.         0.         0.         0.         0.\n",
      " 0.         0.         0.         0.         0.         0.\n",
      " 0.         0.         0.         0.16954915 0.21918573 0.25320032\n",
      " 0.26927411 0.26631031 0.24450903 0.20535378 0.1515105  0.\n",
      " 0.         0.         0.         0.         0.         0.\n",
      " 0.         0.         0.         0.         0.         0.\n",
      " 0.         0.         0.         0.16956707 0.21934675 0.25349966\n",
      " 0.2696975  0.26683498 0.24510526 0.20598696 0.15214353 0.\n",
      " 0.         0.         0.         0.         0.         0.\n",
      " 0.         0.         0.         0.         0.         0.\n",
      " 0.         0.         0.         0.16960402 0.21952551 0.25381446\n",
      " 0.27013323 0.26736822 0.24570592 0.20662036 0.15277275 0.\n",
      " 0.         0.         0.         0.         0.         0.\n",
      " 0.         0.         0.         0.         0.         0.\n",
      " 0.         0.         0.         0.16965989 0.21972178 0.25414436\n",
      " 0.27058082 0.26790949 0.24631044 0.20725339 0.15339763 0.\n",
      " 0.         0.         0.         0.         0.         0.\n",
      " 0.         0.         0.         0.         0.         0.\n",
      " 0.         0.         0.         0.16973455 0.21993528 0.25448897\n",
      " 0.27103979 0.26845824 0.24691825 0.2078855  0.15401765 0.\n",
      " 0.         0.         0.         0.         0.         0.\n",
      " 0.         0.         0.         0.         0.         0.\n",
      " 0.         0.         0.         0.16982782 0.22016572 0.25484787\n",
      " 0.27150965 0.26901394 0.24752879 0.20851615 0.15463233 0.\n",
      " 0.         0.         0.         0.         0.         0.\n",
      " 0.         0.         0.         0.         0.         0.\n",
      " 0.         0.         0.         0.16993952 0.22041278 0.25522066\n",
      " 0.2719899  0.26957603 0.24814149 0.20914479 0.15524118 0.\n",
      " 0.         0.         0.         0.         0.         0.\n",
      " 0.         0.         0.         0.         0.         0.\n",
      " 0.         0.         0.         0.17006945 0.22067614 0.2556069\n",
      " 0.27248004 0.27014397 0.24875581 0.20977091 0.15584375 0.\n",
      " 0.         0.         0.         0.         0.         0.\n",
      " 0.         0.         0.         0.         0.         0.\n",
      " 0.         0.         0.         0.17021737 0.22095544 0.25600615\n",
      " 0.27297956 0.27071722 0.2493712  0.210394   0.15643959 0.\n",
      " 0.         0.         0.         0.         0.         0.\n",
      " 0.         0.         0.         0.         0.         0.\n",
      " 0.         0.         0.         0.17038305 0.22125034 0.25641795\n",
      " 0.27348794 0.27129522 0.24998711 0.21101353 0.15702826 0.\n",
      " 0.         0.         0.         0.         0.         0.\n",
      " 0.         0.         0.         0.         0.         0.\n",
      " 0.         0.         0.         0.17056622 0.22156046 0.25684186\n",
      " 0.27400466 0.27187742 0.250603   0.21162902 0.15760933 0.\n",
      " 0.         0.         0.         0.         0.         0.\n",
      " 0.         0.         0.         0.         0.         0.\n",
      " 0.         0.         0.         0.17076664 0.22188543 0.25727739\n",
      " 0.27452919 0.27246327 0.25121832 0.21223996 0.15818238 0.\n",
      " 0.         0.         0.         0.         0.         0.\n",
      " 0.         0.         0.         0.         0.         0.\n",
      " 0.         0.         0.         0.170984   0.22222485 0.25772408\n",
      " 0.275061   0.27305222 0.25183252 0.21284585 0.15874698 0.\n",
      " 0.         0.         0.         0.         0.         0.\n",
      " 0.         0.         0.         0.         0.         0.\n",
      " 0.         0.         0.         0.17121803 0.22257832 0.25818144\n",
      " 0.27559954 0.27364369 0.25244508 0.2134462  0.15930274 0.\n",
      " 0.         0.         0.         0.         0.         0.\n",
      " 0.         0.         0.         0.         0.         0.\n",
      " 0.         0.         0.         0.17146841 0.22294543 0.25864896\n",
      " 0.27614427 0.27423715 0.25305544 0.21404053 0.15984925 0.\n",
      " 0.         0.         0.         0.         0.         0.\n",
      " 0.         0.         0.         0.         0.         0.\n",
      " 0.         0.         0.         0.17173482 0.22332576 0.25912615\n",
      " 0.27669465 0.27483201 0.25366307 0.21462836 0.16038611 0.\n",
      " 0.         0.         0.         0.         0.         0.\n",
      " 0.         0.         0.         0.         0.         0.\n",
      " 0.         0.         0.         0.17201692 0.22371885 0.2596125\n",
      " 0.2772501  0.27542771 0.25426742 0.21520921 0.16091295 0.\n",
      " 0.         0.         0.         0.         0.         0.\n",
      " 0.         0.         0.         0.         0.         0.\n",
      " 0.         0.         0.         0.17231439 0.22412428 0.26010747\n",
      " 0.27781008 0.27602369 0.25486796 0.21578259 0.16142937 0.\n",
      " 0.         0.         0.         0.         0.         0.\n",
      " 0.         0.         0.         0.         0.         0.\n",
      " 0.         0.         0.         0.17262686 0.22454158 0.26061056\n",
      " 0.278374   0.27661937 0.25546414 0.21634804 0.16193499 0.\n",
      " 0.         0.         0.         0.         0.         0.\n",
      " 0.         0.         0.         0.         0.         0.\n",
      " 0.         0.         0.         0.17295397 0.2249703  0.26112121\n",
      " 0.27894131 0.27721417 0.25605542 0.21690506 0.16242942 0.\n",
      " 0.         0.         0.         0.         0.         0.\n",
      " 0.         0.         0.         0.         0.         0.\n",
      " 0.         0.         0.         0.17329538 0.22540998 0.26163891\n",
      " 0.27951142 0.27780751 0.25664125 0.21745319 0.16291228 0.\n",
      " 0.         0.         0.         0.         0.         0.\n",
      " 0.         0.         0.         0.         0.         0.\n",
      " 0.         0.         0.10909419 0.17365072 0.22586016 0.26216311\n",
      " 0.28008376 0.27839882 0.25722108 0.21799191 0.16338316 0.\n",
      " 0.         0.         0.         0.         0.         0.\n",
      " 0.         0.         0.         0.         0.         0.\n",
      " 0.         0.         0.10935673 0.17401964 0.22632038 0.26269329\n",
      " 0.28065775 0.27898749 0.25779434 0.21852075 0.16384167 0.\n",
      " 0.         0.         0.         0.         0.         0.\n",
      " 0.         0.         0.         0.         0.         0.\n",
      " 0.         0.         0.10963537 0.17440178 0.22679018 0.2632289\n",
      " 0.28123281 0.27957296 0.25836048 0.21903921 0.16428741 0.\n",
      " 0.         0.         0.         0.         0.         0.\n",
      " 0.         0.         0.         0.         0.         0.\n",
      " 0.         0.         0.10992989 0.17479678 0.2272691  0.26376941\n",
      " 0.28180837 0.28015464 0.25891896 0.21954682 0.16472    0.\n",
      " 0.         0.         0.         0.         0.         0.\n",
      " 0.         0.         0.         0.         0.         0.\n",
      " 0.         0.         0.11024004 0.17520428 0.22775669 0.2643143\n",
      " 0.28238387 0.28073197 0.25946925 0.2200431 ]\n",
      "2788671.7460846533\n",
      "[2788671.7460846533]\n"
     ]
    }
   ],
   "source": [
    "# Flux array constructor\n",
    "for zenitha in range(0, 91):  # 0° til 90°\n",
    "    theta_panel = np.deg2rad(zenitha)\n",
    "    phi_panel = np.deg2rad(1)\n",
    "    for azimutha in range(0, 361):\n",
    "        flux_array\n",
    "    flux_array = np.where(\n",
    "        theta_sol <= np.pi / 2,\n",
    "        solar_panel_projection(theta_sol, phi_sol, theta_panel, phi_panel),\n",
    "        0.0)\n",
    "theta_panel, phi_panel = np.deg2rad(50), np.deg2rad(180)\n",
    "theta_sol, phi_sol = np.deg2rad(solpos.zenith.values), np.deg2rad(solpos.azimuth.values)\n",
    "\n",
    "energier = []\n",
    "wh_energier = []\n",
    "\n",
    "flux_array = np.where(\n",
    "    theta_sol <= np.pi / 2,\n",
    "    solar_panel_projection(theta_sol, phi_sol, theta_panel, phi_panel),\n",
    "    0.0)\n",
    "\n",
    "print(flux_array[18:1000])\n",
    "energi = integrate.simpson(flux_array, dx=3600)\n",
    "print(energi)\n",
    "energier.append(energi)\n",
    "wh_energier.append(energi/3600)\n",
    "\n",
    "print(energier)\n"
   ]
  },
  {
   "cell_type": "code",
   "execution_count": 114,
   "id": "4dc064fd",
   "metadata": {},
   "outputs": [
    {
     "data": {
      "text/plain": [
       "(8783,)"
      ]
     },
     "execution_count": 114,
     "metadata": {},
     "output_type": "execute_result"
    }
   ],
   "source": [
    "theta_sol.shape"
   ]
  },
  {
   "cell_type": "code",
   "execution_count": 116,
   "id": "1c7623ad",
   "metadata": {},
   "outputs": [
    {
     "data": {
      "text/plain": [
       "97"
      ]
     },
     "execution_count": 116,
     "metadata": {},
     "output_type": "execute_result"
    }
   ],
   "source": [
    "len(energier)"
   ]
  },
  {
   "cell_type": "code",
   "execution_count": 102,
   "id": "f444da85",
   "metadata": {},
   "outputs": [
    {
     "name": "stdout",
     "output_type": "stream",
     "text": [
      "(8783,)\n"
     ]
    }
   ],
   "source": [
    "print(theta_sol.shape)"
   ]
  },
  {
   "cell_type": "code",
   "execution_count": 87,
   "id": "0ac338ed",
   "metadata": {},
   "outputs": [
    {
     "data": {
      "text/plain": [
       "21899"
      ]
     },
     "execution_count": 87,
     "metadata": {},
     "output_type": "execute_result"
    }
   ],
   "source": [
    "theta_sol = np.deg2rad(solpos.zenith.values)\n",
    "len(energier)\n",
    "60*365-1"
   ]
  }
 ],
 "metadata": {
  "kernelspec": {
   "display_name": ".venv",
   "language": "python",
   "name": "python3"
  },
  "language_info": {
   "codemirror_mode": {
    "name": "ipython",
    "version": 3
   },
   "file_extension": ".py",
   "mimetype": "text/x-python",
   "name": "python",
   "nbconvert_exporter": "python",
   "pygments_lexer": "ipython3",
   "version": "3.12.8"
  }
 },
 "nbformat": 4,
 "nbformat_minor": 5
}
