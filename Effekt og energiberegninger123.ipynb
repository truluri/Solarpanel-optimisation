{
 "cells": [
  {
   "cell_type": "code",
<<<<<<< HEAD
   "execution_count": 1,
=======
   "execution_count": null,
>>>>>>> 35702b0772fb19729cebce6298f2fad100361777
   "id": "07b2df49",
   "metadata": {},
   "outputs": [],
   "source": [
    "import pandas as pd\n",
    "import pvlib\n",
    "from pvlib.location import Location\n",
    "import matplotlib.pyplot as plt\n",
    "import numpy as np\n",
    "from sympy import*\n",
    "from scipy.optimize import curve_fit\n",
    "from scipy import integrate # indlæses også senere i selve opgaven\n"
   ]
  },
  {
   "cell_type": "code",
<<<<<<< HEAD
   "execution_count": 2,
=======
   "execution_count": 135,
>>>>>>> 35702b0772fb19729cebce6298f2fad100361777
   "id": "1ddab393",
   "metadata": {},
   "outputs": [
    {
     "name": "stderr",
     "output_type": "stream",
     "text": [
      "/var/folders/fp/29v7pg1d4n73gv7rz4jgc0s80000gn/T/ipykernel_7020/1227359451.py:14: FutureWarning: 'H' is deprecated and will be removed in a future version, please use 'h' instead.\n",
      "  times = pd.date_range(\n"
     ]
    }
   ],
   "source": [
    "tidszone = \"Europe/Copenhagen\"\n",
    "start_dato = \"2024-01-01\"\n",
    "slut_dato = \"2024-12-31\"\n",
    "delta_tid = \"H\"  # \"Min\", \"H\",\n",
    "\n",
    "# Definition of Location object. Coordinates and elevation of Amager, Copenhagen (Denmark)\n",
    "site = Location(\n",
    "    55.47092, 12.31168, tidszone, 10, \"Danmarks Tekniske Universitet (DK)\"\n",
    ")  # latitude, longitude, time_zone, altitude, name\n",
    "\n",
    "# Højde er ca 50 m MOH\n",
    "\n",
    "# Definition of a time range of simulation\n",
    "times = pd.date_range(\n",
    "    start_dato + \" 00:00:00\", slut_dato + \" 23:59:59\", inclusive=\"left\", freq=delta_tid, tz=tidszone\n",
    ")\n",
    "\n",
    "# Estimate Solar Position with the 'Location' object\n",
    "solpos = site.get_solarposition(times)\n"
   ]
  },
  {
   "cell_type": "code",
   "execution_count": null,
   "id": "ba34bdf5",
   "metadata": {},
   "outputs": [],
   "source": []
  },
  {
   "cell_type": "markdown",
   "id": "eb07e409",
   "metadata": {},
   "source": [
    "### Ny kode"
   ]
  },
  {
   "cell_type": "code",
<<<<<<< HEAD
   "execution_count": 3,
=======
   "execution_count": 136,
>>>>>>> 35702b0772fb19729cebce6298f2fad100361777
   "id": "edfcc3cd",
   "metadata": {},
   "outputs": [],
   "source": [
    "theta_sol = np.deg2rad(solpos.loc[\"2024-04-20\"].zenith.values)\n",
    "phi_sol = np.deg2rad(solpos.loc[\"2024-04-20\"].azimuth.values)"
   ]
  },
  {
   "cell_type": "code",
<<<<<<< HEAD
   "execution_count": 21,
=======
   "execution_count": 137,
>>>>>>> 35702b0772fb19729cebce6298f2fad100361777
   "id": "a2836174",
   "metadata": {},
   "outputs": [],
   "source": [
    "def solar_panel_projection(theta_sol, phi_sol, theta_panel, phi_panel):\n",
    "    theta_sol = np.asarray(theta_sol)\n",
    "    phi_sol = np.asarray(phi_sol)\n",
<<<<<<< HEAD
    "    L·B = 1.63 # længde gange bredde   \n",
    "    n = 0.185 * L·B  # n er overførelsen, altså hvor meget energi fra solen er arbejdsom, målt fra når den rammer panelet til den kommer ind i et andet kredsløb\n",
=======
    "    nLB = 0.185*1.63 # n er overførelsen, altså hvor meget energi fra solen er arbejdsom, målt fra når den rammer pannelet til den kommer ind i et andet kredsløb\n",
>>>>>>> 35702b0772fb19729cebce6298f2fad100361777
    "    u_s = np.stack([\n",
    "        np.sin(theta_sol) * np.cos(phi_sol),\n",
    "        np.sin(theta_sol) * np.sin(phi_sol),\n",
    "        np.cos(theta_sol)\n",
    "    ], axis=-1)\n",
    "\n",
    "    u_p = np.array([\n",
    "        np.sin(theta_panel) * np.cos(phi_panel),\n",
    "        np.sin(theta_panel) * np.sin(phi_panel),\n",
    "        np.cos(theta_panel)\n",
    "    ])\n",
    "    dot_products = nLB * np.sum(u_s * u_p, axis=-1)\n",
    "    return np.maximum(dot_products, 0)"
   ]
  },
  {
   "cell_type": "code",
   "execution_count": 138,
   "id": "45521257",
   "metadata": {},
   "outputs": [],
   "source": [
    "flux_array = np.where(\n",
    "    theta_sol <= np.pi / 2,\n",
    "    solar_panel_projection(theta_sol, phi_sol, theta_panel, phi_panel),\n",
    "    0.0)"
   ]
  },
  {
   "cell_type": "code",
   "execution_count": 139,
   "id": "114dde3d",
   "metadata": {},
   "outputs": [],
   "source": [
    "from scipy import integrate\n",
    "\n",
    "energi = integrate.simpson(flux_array, dx=60)  # i [W·s] eller Joule"
   ]
  },
  {
   "cell_type": "code",
   "execution_count": 140,
   "id": "6d6e6d91",
   "metadata": {},
   "outputs": [
    {
     "data": {
      "text/plain": [
       "0.03839488067883965"
      ]
     },
     "execution_count": 140,
     "metadata": {},
     "output_type": "execute_result"
    }
   ],
   "source": [
    "energi_Wh = energi / 3600\n",
    "energi_Wh"
   ]
  },
  {
   "cell_type": "code",
<<<<<<< HEAD
   "execution_count": 34,
=======
   "execution_count": 141,
>>>>>>> 35702b0772fb19729cebce6298f2fad100361777
   "id": "6b984f80",
   "metadata": {},
   "outputs": [
    {
     "data": {
      "text/plain": [
<<<<<<< HEAD
       "[1.9452697447406808,\n",
       " 1.9672226744095203,\n",
       " 1.9887339219509457,\n",
       " 2.0097865921495184,\n",
       " 2.030368530924662,\n",
       " 2.0504583267809573,\n",
       " 2.0700424143550262,\n",
       " 2.089107920201811,\n",
       " 2.107642215548396,\n",
       " 2.1256329262504585,\n",
       " 2.1430679426689725,\n",
       " 2.159941589157176,\n",
       " 2.1762446646031393,\n",
       " 2.1919602321700524,\n",
       " 2.2070854874265398,\n",
       " 2.2216044584338657,\n",
       " 2.2355252516501536,\n",
       " 2.2488264885736244,\n",
       " 2.2615039552446428,\n",
       " 2.27355560727933,\n",
       " 2.284972971725629,\n",
       " 2.295744976829409,\n",
       " 2.305879872069957,\n",
       " 2.315359857721487,\n",
       " 2.324181779831665,\n",
       " 2.3323506146157627,\n",
       " 2.3398493745151927,\n",
       " 2.346687484070725,\n",
       " 2.352847937825861,\n",
       " 2.35834128273135,\n",
       " 2.3631521350062363,\n",
       " 2.3672897716393617,\n",
       " 2.3707404071257825,\n",
       " 2.3735130545816086,\n",
       " 2.375595528146586,\n",
       " 2.376997287901708,\n",
       " 2.3777059214010197,\n",
       " 2.3777312156903907,\n",
       " 2.3770619789471867,\n",
       " 2.3757077997935894,\n",
       " 2.3736586851842376,\n",
       " 2.370924022311773,\n",
       " 2.3674961182107017,\n",
       " 2.3633830200770896,\n",
       " 2.3585817067415586,\n",
       " 2.3530929134346406,\n",
       " 2.3469217874330695,\n",
       " 2.340062474206468,\n",
       " 2.3325236323468603,\n",
       " 2.324300677237389,\n",
       " 2.3154037114354757,\n",
       " 2.305833294131636,\n",
       " 2.2955892265633344,\n",
       " 2.284677254067687,\n",
       " 2.2730957853455545,\n",
       " 2.260852707568857,\n",
       " 2.247949474079402,\n",
       " 2.234394675877029,\n",
       " 2.220190384026319,\n",
       " 2.2053371187811925,\n",
       " 2.1898421898399643,\n",
       " 2.173708168120907,\n",
       " 2.1569421707042262,\n",
       " 2.1395536832989634,\n",
       " 2.1215438555440174,\n",
       " 2.1029180398730882,\n",
       " 2.0836816970886023,\n",
       " 2.0638413058165974,\n",
       " 2.0434034739561393,\n",
       " 2.022374444004648,\n",
       " 2.000764192021502,\n",
       " 1.9785793139726289,\n",
       " 1.9558237685556854,\n",
       " 1.9325069229404408,\n",
       " 1.9086343989339245,\n",
       " 1.88421664533684,\n",
       " 1.8592590429427172,\n",
       " 1.833773099207527,\n",
       " 1.8077639530974352,\n",
       " 1.7812441462290383,\n",
       " 1.7542185749734847,\n",
       " 1.7267007891318074,\n",
       " 1.6986954417458704,\n",
       " 1.6702170634430893,\n",
       " 1.6412700632653532,\n",
       " 1.6118699238559886,\n",
       " 1.5820208095966541,\n",
       " 1.551739961787582,\n",
       " 1.5210346792359812,\n",
       " 1.4899159141520852,\n",
       " 1.4583979588321523]"
      ]
     },
     "execution_count": 34,
=======
       "[1.9477088162081015,\n",
       " 1.9701792007550174,\n",
       " 1.9921617558909757,\n",
       " 2.013537479257585,\n",
       " 2.0342998596024375,\n",
       " 2.05444257250335,\n",
       " 2.0739594822948457,\n",
       " 2.0928446439371378,\n",
       " 2.1110923048270447,\n",
       " 2.128696906550292,\n",
       " 2.1463334634184994,\n",
       " 2.1636769412342782,\n",
       " 2.1803613420937484,\n",
       " 2.196381583766782,\n",
       " 2.2117327863325746,\n",
       " 2.2264102736661124,\n",
       " 2.2404095748625714,\n",
       " 2.2537264255991936,\n",
       " 2.266356769434239,\n",
       " 2.2782967590426244,\n",
       " 2.2895427573878484,\n",
       " 2.3000913388298736,\n",
       " 2.3099392901686056,\n",
       " 2.319083611622669,\n",
       " 2.3275215177431634,\n",
       " 2.335250438262147,\n",
       " 2.3422680188755565,\n",
       " 2.3485721219603573,\n",
       " 2.35416082722568,\n",
       " 2.359032432297761,\n",
       " 2.3631854532385037,\n",
       " 2.3666186249974994,\n",
       " 2.3693309017973707,\n",
       " 2.371321457452331,\n",
       " 2.3725896856198445,\n",
       " 2.3731351999853256,\n",
       " 2.3729578343798146,\n",
       " 2.372057642830592,\n",
       " 2.3704348995447257,\n",
       " 2.3680900988255402,\n",
       " 2.365023954922047,\n",
       " 2.361237401811384,\n",
       " 2.3567315929143082,\n",
       " 2.35150790074386,\n",
       " 2.345573904851332,\n",
       " 2.340369426301825,\n",
       " 2.334452048553399,\n",
       " 2.327823574096639,\n",
       " 2.3204860220290753,\n",
       " 2.3124416274401494,\n",
       " 2.303692840730379,\n",
       " 2.2942423268649494,\n",
       " 2.2840929645619314,\n",
       " 2.2732478454154035,\n",
       " 2.2617102729537155,\n",
       " 2.249483761633206,\n",
       " 2.2365720357676646,\n",
       " 2.2229790283938686,\n",
       " 2.208708880073542,\n",
       " 2.193765937632102,\n",
       " 2.1781547528345726,\n",
       " 2.1618800809990697,\n",
       " 2.1449468795482924,\n",
       " 2.1273603064994373,\n",
       " 2.1091257188930204,\n",
       " 2.090248671161069,\n",
       " 2.0707349134351882,\n",
       " 2.0511040703167995,\n",
       " 2.0318041050610067,\n",
       " 2.011885232592285,\n",
       " 1.9913535203921449,\n",
       " 1.9702152226190186,\n",
       " 1.948476778203179,\n",
       " 1.926144808885381,\n",
       " 1.9032261171998126,\n",
       " 1.8797276844019795,\n",
       " 1.8556566683421467,\n",
       " 1.8310204012849869,\n",
       " 1.8058263876761036,\n",
       " 1.7800823018561005,\n",
       " 1.7537959857229073,\n",
       " 1.7269754463430604,\n",
       " 1.6996288535126698,\n",
       " 1.6717645372688252,\n",
       " 1.643390985352182,\n",
       " 1.6145168406215145,\n",
       " 1.5851508984210172,\n",
       " 1.5553021039011605,\n",
       " 1.524979549293905,\n",
       " 1.4941924711431258]"
      ]
     },
     "execution_count": 141,
>>>>>>> 35702b0772fb19729cebce6298f2fad100361777
     "metadata": {},
     "output_type": "execute_result"
    }
   ],
   "source": [
    "phi_panel = np.deg2rad(180)\n",
    "energier = []\n",
    "wh_energier = []\n",
    "\n",
    "for vinkel in range(0, 91):  # 0° til 90°\n",
    "    theta_panel = np.deg2rad(vinkel)\n",
    "    flux_array = np.where(\n",
    "        theta_sol <= np.pi / 2,\n",
    "        solar_panel_projection(theta_sol, phi_sol, theta_panel, phi_panel),\n",
    "        0.0)\n",
    "    energi = integrate.simpson(flux_array, dx=3600)\n",
    "    energier.append(energi)\n",
    "    wh_energier.append(energi/3600)\n",
    "\n",
    "\n",
    "energier # i enheden Joule pr sekunder\n",
    "wh_energier # i enheden kWh "
   ]
  },
  {
   "cell_type": "code",
<<<<<<< HEAD
   "execution_count": 18,
=======
   "execution_count": 142,
>>>>>>> 35702b0772fb19729cebce6298f2fad100361777
   "id": "c0f62db3",
   "metadata": {},
   "outputs": [
    {
     "data": {
<<<<<<< HEAD
      "image/png": "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",
=======
      "image/png": "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",
>>>>>>> 35702b0772fb19729cebce6298f2fad100361777
      "text/plain": [
       "<Figure size 640x480 with 1 Axes>"
      ]
     },
     "metadata": {},
     "output_type": "display_data"
    }
   ],
   "source": [
    "time_index = solpos.loc[\"2024-04-20\"].index\n",
    "time_array = np.array([t.hour + t.minute/60 for t in time_index])\n",
    "\n",
    "flux = solar_panel_projection(theta_sol, phi_sol, np.deg2rad(30), np.deg2rad(180))\n",
    "plt.plot(time_array, flux)\n",
    "plt.xlabel(\"Tid (timer)\")\n",
    "plt.ylabel(\"Flux\")\n",
    "plt.title(\"Flux på solpanel den 20. april 2024\")\n",
    "plt.grid()\n",
    "plt.show()"
   ]
  },
  {
   "cell_type": "code",
<<<<<<< HEAD
   "execution_count": 35,
=======
   "execution_count": 143,
>>>>>>> 35702b0772fb19729cebce6298f2fad100361777
   "id": "651a53bc",
   "metadata": {},
   "outputs": [
    {
     "data": {
<<<<<<< HEAD
      "image/png": "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",
=======
      "image/png": "iVBORw0KGgoAAAANSUhEUgAAAjcAAAHcCAYAAAAqQ4tyAAAAOXRFWHRTb2Z0d2FyZQBNYXRwbG90bGliIHZlcnNpb24zLjkuNCwgaHR0cHM6Ly9tYXRwbG90bGliLm9yZy8ekN5oAAAACXBIWXMAAA9hAAAPYQGoP6dpAABkT0lEQVR4nO3dB3wT5f8H8G8ppUChZVT2FJA9ZYgggoDIkKWoDAFRHCwFxIWIwE8BFwoqKDIcIIos2Uu2TJG9lyBQypAWKJTR+78+j/+LlzRpkzZpLpfP+/UKNJd1uUty33ue7/N9QjRN04SIiIjIIjL5ewWIiIiIvInBDREREVkKgxsiIiKyFAY3REREZCkMboiIiMhSGNwQERGRpTC4ISIiIkthcENERESWwuCGiIiILIXBDVE6nDhxQkJCQmTq1KliJu+++65ar/Q89sKFC5bZJg0bNlQX8i3sd3x+dPgMYBk+E0QZicEN+ZX+4+fqsmnTJn+vIrkwffp0+fTTT/29GqZ26tQpGTZsmNSuXVty584t0dHRKshasWKF0/tfvnxZnn/+ebnrrrskIiJCGjVqJNu3bxerW7lypfTo0UPuueceyZ49u9x9993y3HPPydmzZ53e//fff5f69eur+xYoUED69esnV69etbvP1q1bpU+fPlKxYkW1LYsVKyZPPPGEHDp0KMV1uXXrllSoUEH9/nz00UdefZ+UcTJn4GsRuTR8+HApWbJksuWlS5cWMytevLhcv35dwsLCJBiDmz179sgrr7xitzyYt4mjefPmyejRo6Vt27bSrVs3uX37tnz33XfStGlTmTx5sjzzzDO2+yYlJUnLli1l586dMmjQIBUIffnllyoY+uOPP6RMmTJidtjvmTN7flh5/fXX5dKlS9KhQwf1Po8dOyaff/65LFiwQHbs2KECGB2uN27cWMqXLy+ffPKJ/P333yoIOXz4sCxevNh2P2z3DRs2qOesUqWKxMTEqOesUaOGOmmqVKmS03UZN26cnDx5Mo1bgEwDE2cS+cuUKVMwcau2detWzQyuXr3q19e/deuWlpiYmO7nGTp0qNqu6Xns+fPnU7xfy5YtteLFi2uB4MEHH1SXjLZnz55k2/HGjRtauXLltCJFitgt/+mnn9R2nzlzpm1ZbGyslitXLq1jx46aWd25c0e7fv16it/v48ePp/gca9asUc/juAyPHTx4sN3y5s2bawULFtTi4uJsyyZOnKjuu3TpUtuyDRs2JPsuHTp0SAsPD9c6d+7sdD3OnTunRUVFacOHD1fP9+GHH6a43mRe7JaigKDnceAM7euvv5ZSpUpJeHi41KpVSzU/Ozpw4IA8/vjjkidPHsmaNavUrFlTfv31V6ddYmvWrJFevXpJvnz5pEiRIrbbv/jiC9U8ni1bNtWtsG7dumS5G87yS7p37y45cuRQZ5/NmjVTTeKFChVSrVOapjl9T+je0d/Tvn371O2//fabPPDAA+rxuXLlkjZt2sj+/fuTvdf169er7YD3ief46quvPMqDccyTcOavv/5SrWg42z137pzaBgsXLlTL9S7EEiVKpPha7rwfPd/nyJEjajviflFRUaqFIyEhQdyhfz6M+82ZxMREGTp0qHpf2O5FixaV1157TS133D7o3pg7d656/7gvujqWLFmS6rrgfmiBMcLjW7RooVocrly5Ylv+yy+/SP78+aV9+/a2ZeieQlcKWoAc18sdu3btUtsRn2N8PtACgu6fixcvOt3u+N7g9SIjIyVv3rzy8ssvy40bN5xuj2nTpqn3h/ejbwt3PkvONGjQQDJlypRsGb6/xs9IfHy8LF++XLp06aLWUde1a1f1nfv5559ty+6//37JkiWL3XOiVQjr7Ox7BG+88YaULVtWPT8FNnZLkSnExcUlS2DFDyV+YB27QnBAeOGFF9TtH3zwgToYIJDQu0H27t0r9erVk8KFC6sfKxxM8aOHroFZs2ZJu3bt7J4TgQ0OIu+8845cu3ZNLRs/frz6AcfBuH///uqAjccjb8IYALly584deeSRR+S+++5T64gffxxI0S2BIMdoypQp6gCCXAscKPCDjpyM5s2bq4MSDhZo7kdzOd4XcjD0QGL37t3y8MMPq/XH/fD8eB0cJL3l6NGj8tBDD6n1woEFB+vBgwerfYYD9JgxY9T9cHBxxd33o8MBFt2UI0eOVLd/8803KvhEV0NKJk2apD4bOLChuwyfi9atW6t1R/Bi7ALCcgSG2O7o4sC2xHtBTgYCGSPcb/bs2eqzkjNnThk7dqw89thjqvvC8TPqDnSRIF8EF92ff/6pukwcD/II0BCwYb0qV67s0etgf2EbIDhEYIPvBp4L/6NrxjHpHNsd+wLbHbfjff7zzz+qK80xUMV3Ct8RfB4c9583IIcGF2NwiH2EzzhOVowQxFSrVk1tw5Tg5ALBOQIcR1u2bJFvv/1W7eu0JuOTifi76YiCm95s7eyC5mMdmrWxLG/evNqlS5dsy+fNm6eWz58/37ascePGWuXKlVXzvy4pKUm7//77tTJlyiR77fr162u3b9+2LUdTNl6nVq1aqptIN3XqVHV/Y/eGvl54Ll23bt3Usr59+9q9PrpxsmTJYuum0B8bGRmpuh+MqlWrpuXLl0+7ePGibdnOnTu1TJkyaV27drUta9u2rZY1a1btr7/+si3bt2+fFhoaatct5Ww9dViOrihn3VL79+/XChUqpLaFcbun1C3l7LXcfT/6a/fo0cPuOdu1a6f2SUpu3rypXgOvZeyO+Prrr5Ptt++//1699rp16+yeY8KECeq+6NIwbh/styNHjtitO5aPGzdO89Thw4fVPnv66aftlkdERCR737Bw4UL1WkuWLPH4tRISEpIt+/HHH9XzrV27Ntl2b926td19e/XqpZbj/epwHdtu7969qX6W3O2WcmbEiBHqsStXrrQtQ5ed47rrOnTooBUoUCDF58R+x+MnTZpktxzfz9q1a9u6//TPMLulAhe7pcgU0AWEs0zjxZgcqHvyySdV64kOLSuAs1NAUiLOKnEGihYetAbhgmZ4dBEh6fD06dN2z9mzZ08JDQ21Xd+2bZu6P5YbkyM7d+5s99qpwVmtY1P+zZs3k42UQQsAWl50GCGCpEl0J6DFQYekSCSiLlq0yNY6tHTpUtWihJEgOrRC4L2mF5KFH3zwQXVWjnX25L0buft+jF588UW769jP2CfolnAF+y02NlY91tgdgddF15bRzJkz1XYqV66c7TOCC1qoYNWqVXb3b9KkierqMq47ukX0z5270LWGBFd0mY0aNcruNrRmoeXOEbqT9Ns9hdfRoXUQ7xGtieBsFFbv3r3trvft21f977iP8LnAiCJfWbt2rRplhu+xvk+M28DVdkppG6HLDe+vbt26KrnbCF2oaBVKrWWQAge7pcgU0PTu2NTsjPEgDvoBF03ngFwNnEAOGTJEXZzBARBdVjrHUVrII3E2UguBjrvN7+haQBeMEYa5gmPND1evj75/RzggI6BB9xmCN/yYOxtFg8c6Cxo88eijj6ruLbxeSl1OqXH3/aD70J39bMy1cPY6jtsD3ZWO+wJBLvIujEGl42fEyHF99HXSP3fuQDD61FNPqZwqBO7Iw3IMRJzl1eg5L8ZAxV0I9hEkzJgxI9l7QreiI8dth4AOn+XUPrPehCAEXcfIb0J3pJG+DVxtJ1fbCN2AGImGIBe5TcaTGQTMb775phqhZuy6pMDG4IYCivFHyUhP1EUuBbz66qsuWy8cg5a0HDS8KSNe31UOAQ64rqBFCTkISBxFHouZ9nN64XOC/BUMJXbG8SDnjfVBSyCGNmN7GlsjdAULFnRa10Vf5hgMuQMtH6gJgwM3clIQpOK9Ix9M/66k5XPjq88s6gIhhwxBCIJz5Dc5biNwtZ2cbSMEccj3Qg0hJJc73gcJ/WhRRauwHsQhlwwQvGIZHuOYnEzmxuCGLEU/Q8fZOroS0gJ1WvRWIBRR0yGRET906JJIDQ4c6LLQW2tALx6WWuuP/voHDx50elaLBEu0cqAZHgcZtEI4cnys3vKBH3hnrR3OfPjhh6q1Sk+i7dSpk93t7iZduvt+0kt/HWwPY/CAomzHjx+XqlWr2rVIoJ4M6qVkRPIoggskjmNUXMeOHZ3eB8EHDr747BiTijdv3qwSj42fJXfgwIzieGi5QbK8ztnnxXibsVUG3wGsjy8Shh2h2xGBDVplsN56IGOE1hx8JtEFicBNh+AEXZ/GZXprDlog8d1D16qzrjQkhWNbOUsyfv/999UFicrYPxQ4mHNDloIRNRimjOHQzs7uzp8/n+pzoHsMI2AmTpyoAhodzrg96YZAwTDjGT6uI+jCATUl+FHHDylaTYzBCHJgli1bpoYR660JaJ3CyB5j0TF0t6CrxwhdOQgikMtghCJxruCgj5E1GFKPHAXHofQISJx1baT1/aQX9hu6mSZMmKAOdsZ8CsegDgdB5F5hHztCV58+as4bECSideCtt95SQ6tdwXbGSB6MytIhRwb5QThAG/NMMIINl5TorU2OrUspVZVG7psRRrQBWj58CdsbnwPsE7TYuCpYiBYdnLT88MMPdsPov//+ezWyCvlMxlZJtMZs3LhRbUPk2jiD6sZz5syxu+jlFJCvheu+7IYj32DLDZkCchBwFu8IQ3od8yVSgx9olGZHtwO6AvB4HDTwI4fmZpyxpwTNzxiujGRKtADgQIgWGxwkccbvzpk+WlUw/BtBQZ06ddT7Q10YHOBc5Xk4HhBxQMEP8rPPPmsbOo0fd2MdEZyV43WQcIsWFgRjuB/OQlHjxAjl7JHEiv8RCCDQSa0UPVoQcCBB0jK2Aw48eqvIvffeKz/99JMMGDBA1dlBlwcOwul5P+mBwPF///uf6kLDOuLAhhYbtJg4foaefvppNZQZycdIHsaQdBwM8RnEcgSH7uSApQYHRtTOwcEa+UXYlkZIqNaH7SO4QbIvhm0jL0evUIz1wn420gPklOZsQkCLWjEoRYDWK+SZIZjENnEFt2GIPLqt8H3B+qLFztjq5QtI1sdQbNTgQXBurEODzxU+f7r33ntP/S4gqRnD+PGd/vjjj1WrD9ZbN3DgQBWQ4zOJ3CPHba/XssHwe1yM9O2K75HxtSmA+Hu4FgW3lIaCG4cTpzQ003H4KRw9elQNMcbQ0LCwMK1w4cJaq1attF9++cXt6shjx45VQ50xJB3DRDE8+N5779UeeeSRVIeCY1gv1uHhhx/WsmfPruXPn1+to7EKa2rDTVesWKHVq1dPy5Ytmxou/uijj6ph3o5QyRXrheHKd999txrO7KxCMYYFP/vss6oCa86cObUnnnhCDUFPaSi48bEYSp0jRw5t06ZNtmrOnTp1UhV0cX99WLirYefuvB9X1ZE9GVL85ZdfaiVLllT7rWbNmmrYsLMKxRg6Pnr0aK1ixYrqvrlz51bbcdiwYXbVb/G6vXv3TvY6eL/Y1ynR34+ry6pVq+zuj+H22EcY9o7PDdbZ2ecTr+1Odei///5bDaPHPsJ+x3DpM2fOuNzn2B+PP/64+nxge/Tp0ydZ9WFX2yM9Q8HxXlxtI2fvE0P4UdoBQ+rvuusutT7x8fF298G2S2nbp4RDwQNfCP7xd4BFFAiQe4BWFxQNdNadoUNTNkZkOE7kR2RWaD1D6xC6bR0rKhMFIubcEDmBRETHuB9VWtG8bZx+gYiIzIc5N0ROoPQ8pl1AgiKSi1HwDKX9MVrDmLRIRETmw+CGyAkMfUWtE8ytg9YaVNbF5HxIyGW9CyIic2PODREREVkKc26IiIjIUhjcEBERkaUwuCHL2bp1qyryhQq6KLiHsuy+hJL1+nw4eD1UDM4oGLmFJGdvWL16tVp//G8c1u5Yeh/38VbhPSty3D74G8tQbdjX9NdyR3r2Iz4T+GwQmRUTislSUIkVo5lQIXjMmDFqTh59ziFfQRViVHZF5dRcuXJ5pbItERGlHYMbshTMt4PJIFFkD9MM+BqmEUCZ+sGDB0ufPn0kGOA9Y/JCCl6YBNU4uSeR2fDTSZYSGxur/kcLirekNImiPhFnRr2eGaBVjMFNcMMknpjLy6wwx5px8lQKPgxuyDKQA4DJ9ABdU8gpMFYT/u2339QEk8jFQTDSpk0buwn6jDkLmLgQEwbmzp1bTcLpDO6rd3kNGjRIPc6Yn/Lnn3+qySIxgSEm/8NkhygOaITJOPG4NWvWqIkvMat5kSJF1G2Y9fiVV15Rz4mDCW7DRIsoKJgSTI6I7riOHTvaZjXHhJCYmBH1ehCcoOvMcZZvdznL1UCeDp4Tz43JRTGrsqv8D0xgiEk3s2XLptbnqaeeklOnTqX6uvrz4b1gEk9sVxRYxEzbqChthMkyMXkmthm2XYUKFWT8+PHJnhPbtlWrVrJ+/XqpXbu2Wn9Msolq1I4wszj2B+of4TlLly4to0ePVtNyuAOPx2cUnz3kZ2GCzISEhGSfB8x6XaBAAbUuyKdCrSW8xrp169Rt+ucJM8K7k0+WmJioClJi6pCcOXOqiTEx2aSr7XvkyJFU19Mx50b/HG/YsEFNpIrXwvesXbt2thMAHd4LXqtQoULqc9qoUSP1fXOWx+PONsckl3htzLyOGc/x+cN98ZwUvHj6RZaB2aAx8/H7778v/fr1UzNV6zMur1ixQgUaOHDhh1WflRqzQSNYcEyaRXCEmZzxXK5KQWGOKRwAcOBAINGiRQt10IG9e/eqQAoHIswKjbNcHPARbCGQwUzhRghscEB45513bC03mLEac1ShuwsH54sXL6qDMAIyx1mMdQsWLFBBDGbEnjx5soSGhqp1wfvEtnnjjTfUQQczX2O241mzZqkDUHogiMNszAULFlTzE2EW6+HDhzud/Rx5SUOGDFHBCboNceDDfsDs1Xged1rA8Fjsr5EjR6pgEQf/f/75xy4gQSCDGZ1xIEcr0/z589U2xkGxd+/eds+Hgzm2GWYrR/4UthsOsgjA8ByAgzsC59OnT6vPWbFixeT333+XN998U86ePasOqu6sd8mSJdV64zP3zTffqOALB2sdZgHHayLg0tcbwRsCVsxUjnXAzOfILcPnCZ8xJNCXK1fO5etiO+uzeyPRHkF+y5Yt07WervTt21edEAwdOlQFHdgu+Pxi9ngdthlmKsds3QjQdu7cqf53DFA93eYIaPEcmCkcwQ0CZwpi/p65k8ibMMsyPtYzZ860W16tWjUtX7582sWLF23Ldu7cqWXKlEnNHu44O3LHjh3dej1Xswe3bdtWzdKNmcF1mI0Zsy03aNAg2azJ9evX127fvm33HJjF2dXsy8aZjzGrNcyaNUvNgN6zZ0+72ccbN26sVa5cWbtx44ZtWVJSkppVuUyZMsm2nXGmasx67Tgrs+PMz5jdGzNYnz592rbs8OHDWubMme1mXz5x4oQWGhqqvffee3bPt3v3bnVfx+WO9H3TunVru+W9evVSy7E/jbOYO2rWrJmaNd3ZbNSYOVyHmdIxS/jAgQNty0aMGKFmej906JDd49944w31nk6ePOly++jr3aNHD7vHYrZuzP5t5Gq98XjMwO44gzhmxDZ+Vh1ng9+xY4e6jm1khOdKz3o6zoiuf46bNGmiPlu6/v37q+1z+fJldT0mJkbta3w/jN599131eONzurvN9e8gZprHviMCdkuR5eEsD833OBs3ns1VqVJFdfMsWrQo2WPQapJWaLnAmTZaRtBSpEPLBs6e0foSHx9v95iePXuqVhYjtGJs3rxZzpw5k+pr/vjjj6q1Bme4OKPXkz0xdQTO1HE2jm4uDEfGBa1AOFvGMHacGafnvaJVDO8V3Qw6dB+gpcxo9uzZquUE66KvBy7ogkEr2apVq9x6TceWF7QWgHE/ostLFxcXp14HrQDHjh1T143QKoYWEB1anMqWLavuq5s5c6a6D1oljOuObiJsg7Vr16a63o6fKTwf9oPxs+BqvQGtg8bXxuviOVLabvo2QUumEbp60rOerqDVxNgVicdiPZHkDytXrlRdpWhFc7YPjTzd5o899pjT1kIKTuyWIsvTf1hxwHJUvnx51dyPriB01+jQLJ9W6GpBk7qr18MBHjkmepeHq9dD0z26SZBvgC4SdHthfitjwAQYht6lSxfVlYYuHscuFzQmoCsIF1dJ2OiySgs8Fl18CGYcOS5DIIV1QSDjjLsJqo6PR44Fgjl0g+iQ+4GuEYxkc8wXQdCAXBIdujsc4YCKri7juu/atcvlwVNPZE+J4+vgNQCvg+7L1NYb3TjOpDRqCZ993I5tZOTss+nJeqblsfr6OPts4KRDv29at3l6vrNkPQxuiJwwnkH76/XQwoEz1zlz5qiWoA8//FDlPaAFxNgqghYhXHCWvm3bNrs6O3ri5auvvqpaapxxFpj4AtYFZ/WLFy9O1koFer6SpxyTllEOAMnbyEP55JNPVHCIyU6xfVD7yDEB2Nm6gDHXCo9BKx/yp5y55557Ul3P1F4ntfX++uuvM+QA7s728MVjHXm6zTP6O0vmxuCGLE8f0YTaHI4w8iY6Otqu1Sa9cKaJUSCuXg9n0jhwuQNBC5rwccGZKhKJkZRrDG4wqgaJxBgdhMReJCzrrUJ6Kw9aRdCc721INMXro4XIkeMytB7gIIcDtDvBgCs4ozce5PE6OBDqSeFIwsUIIYwGM7YkuNvt5QzW/erVqz7ZhrrU1hsjwzx9fXz2sW0QOBlba5x9NjPyu4h9ZtyH6PYytpRl1DYn62LODVkeAoRq1arJt99+q4aW6vbs2aNaRNDd4004e8V0DPPmzbPrKjl37pxMnz5dDS1PrXkfOQWOuSEIJJDXggOgI3SzoHtNHy6Og5n+GIzQQh4Oco8cOQ7TTct7xcEHU04Yc4Nw8EILjePoMtwfI6ocz+RxHQc4d3zxxRd21/WuOD3g01sPjK+BbYnRNGmFVjR0FWEbO8JnSh9ynx4prTcC4lGjRjnd9/hcuaJvE4woM3JndJcvoGUKo8Ach+V//vnnftnmZF1suaGggC4d/NDXrVtXDfnVh4IjKPDFPEkYrrt8+XIVyKDVBT/oCDBwcEIuTWqQ/It6NxiiXLVqVdVlg8RdDPv9+OOPnT4GLVD6ayLgQOIycmkQDGBZ5cqVVeIyWnNwQMSBA/VOMBQ3PbD9ECRiuPlLL72kAjMcrFCjxViHBWfi2C4YyougD0nIqLuCnCF0vSEZFd1nqcH9McQbrVR4D/owZ2wnQGCJ7hzkqCDBGmf/qFiNQM9ZgOcO1DFCiwqGaOvDxJGntXv3bjVcH+8H2z89sM+crTdyjBCcoB4QkuCRX4Uk7JMnT8qSJUtUiwy2gTMI6pGIjCHmCJQwFBxJvc5a2jICSjNgaDs+w/o+xOcPgTC2n7GLMSO2OVkXgxsKCjhw4ECAZE3UkkE3DUahIIfFF3kM6BZC0TUcyFEvBF0DqG2Dg5BjjRtn0K2FoAhBgz7KCLkxOEghgHAFwQyCIOTqoAUHI0owGgi5OGgxQbE1tJDgQF+9enW1LdILBx0cnBCYIGkZXW6oc4N6POiGM0KdHXRJIYcE6wO4PwISHOzcgZopWG88F4JG1FFB8KrDwR4Hv7ffflutEwIBbDN0F/bo0SNN7xH7A919qHuEUTyoqYPWN7wXvA9jgnJaIdkc+xqfUeSZ4PkR3KLFBt2mKJSIzxJaXZBsjH2NoDW1kX2o24P3Pm3aNNXChu7LhQsXut016m34zmF7InDDZxUnHPic472gizMjtzlZVwjGg/t7JYjIetAygwKCyJHxBrQQ4aCGrjSesVsLupkwWgote5injSi9mHNDROmGbj4jBDQY5WOc/oLI2WfFmAPEzwt5C7uliCjdkMeDvAj8j1omSBhF/oirYbwUvNCtiO5RfboS5IahCCW6JpG3ReQNDG6IKN2QGIoDVExMjJrXB3kUyJVwVbCPgheSopErhcR6VD3Wk4zRJUXkLcy5ISIiIkthzg0RERFZCoMbIiIispSgy7lBvRBUUkXxMMc5aYiIiMickEWDAqeo1J7ShLFBGdwgsPFX8SoiIiJKn1OnTqkK7ikJuuAGLTb6xkltfh9P3bp1S1XaxJBGVMAl/+M+MSfuF/PhPjEf7hN7GF2Hxgn9OG7a4AalxFFuHCXaMV095j1BaW7j7LUpmTFjhpo3pU2bNqqsuDv0rigENr4IblAyHM/LD6I5cJ+YE/eL+XCfmA/3iXPupJT4NaEY84b07t1bNm3apCb8w45EhIrJ0VKDSdMwbwzm0CEiIiIyRcsNJjI0QtVKTOj3xx9/SIMGDVw+DrMOd+7cWc0zg8kJMS8JERERkemGgsfFxan/8+TJk+L9MOMwgqBnn302g9aMiIiIAkVmMw3RfuWVV9TcIpUqVXJ5P8xDMmnSJNmxY4dbz5uYmKguxoQkQBcYLt6kP5+3n5fSjvvEnLhfzIf7xHy4T+x5sh1ME9wg92bPnj0qeHEF49uffvppmThxokRHR7udtIzuK0fIQEeili8gf4jMhfvEnLhfzIf7xHy4T/6VkJAgATW3VJ8+fWTevHmydu1aKVmypMv7obWmevXqEhoaatfiAyjoc/DgQSlVqlSqLTcYSnbhwgWfjJbCh7Bp06bMbDcJ7hNz4n4xH+4T8+E+sYfjNxo2kMKS2vHbry03iKv69u0rc+bMkdWrV6cY2EC5cuVk9+7ddsvefvtt1aLz2WefOS3OhxmKcXGED4qvPiy+fG5KG+4Tc+J+MR/uE/PhPvmXJ9sgs7+7oqZPn65abVCUJyYmRi2PiopSdW+ga9euUrhwYdW9lDVr1mT5OLly5VL/p5SnQ0RERMHDr8HN+PHj1f8NGza0Wz5lyhTp3r27+vvkyZOpziFBREREZJpuqdSguyolqI1DRJ65k6TJluOXJPbKDcmXM6vULvlv+YW0LgvNxEloicg8TDNaiogyJmj559pNGbFwn5yNu2F7XK7s//ZlX0645fGyglFZZUjL8pI7IpwBDxGZAoMbIosEMu4GLc44u93dZXi9XtP/tFuGgGfooxWkaYUCbOUhogzH4IYoAC3Zc1aGzbcPZJxJLajxlZi4G/LiD9tVcOWslScya6j8cSFE8h6/JHVL52PAQ0RexeCGKMBaaU5cSJBPVxwSvxeoSoHmIriyb+UJle8Ob2O3FhF5HYMbogDsbrKSlLq1HqlU0G/rRUSBi8ENUQB2N1md3q3Vv0kZKREdwdYcIvIIgxsiPwq07qaMom+DMSsO25axNYeI3MXghshP2ErjGbbmEJG7GNwQZRAzt9Kkp85NRmFrDhG5i8ENkYVbaTwpupfWCsWu6uvgNdGm4ssAjq05ROQMgxuiDAhsXvphu89baTwJWlwd/OuWypumZc0qJS/Wt3xfjM8DOrbmEJEzDG6IfNgFFRN3XUYs3O/1wEZvEXG3xcJZgOJNeF3H10Bw4VihOCOGtbM1h4gY3BAFYBdUgQBpnXAW9KCVZ+ORWFm2brM8/EAdib+R5NWAh605RMTghsjkicJWq+CL9a5TMo9c3K+p/8PCwuy6tfRtCJoXW3PQNTi+Sw0GOERBgMENkYlaaTztbrIKxxaesgVyeHW76kHSW3N2y/VbSVIgMji2K1GwYnBDZKJE4UDpbvI1x3wdb7XmXLp2S/r/tEP9za4qIuticEPkp0ThYG2lMUtrDhOPiayLwQ2Rn7qg2Erj39YcJh4TWReDG6IM7ILKExEmQ1pVZM6HiVtzmHhMFPgY3BC50RWFA2h6u6Dg/XaVedAMgNYcJh4TBTYGN0SpDO++cCUx3S0D7ILyHV+05jDxmCiwMbgh8nJuDROFzdOaoyd+ozJyWlve2FVFFHgY3BB5ObeGrTTmas3JliVU7dO0TuLJriqiwMPghoKeN4Z3M1HYvBBkotWFXVVEwYPBDQU1b3RBAROFgyvxmF1VRObG4IaCFruggos3E4/ZVUVkbgxuKCilZ3g3JrGMzhnOROEA543EY3ZVEZkTgxsKyvyaDUfOe3zGHvL/LTXd65VkQGMR3kw8ZlcVkXkwuKGgkZ78Gj2UwZk5AxtrSm/iMQIifDLweLQI8XNC5D8MbigoLN17TvrO2Jnm/Brm1gSH9HZV4X4IjMYsPyT1Skez25LITxjckOUlaSIjFx3wOLDh8O7g5I2uqs9XHVEX5uEQ+UcmP70uUYbk12w+fkkWnwqRmPhEtx8X8v8XDO9uV72wOtAxsAnuriq03Ek68nDQJUpEGYctNxQE+TWhHj2WXVDkra4q5uEQ+QeDG7KctNav6dOoNPMkyOtdVczDIcp47JYiCfb6NTjMIDeif9N72AVFPuuqQg5Ox4mbpP7o39hNReRjDG7IMkHNxqMXZczygx4N4+UQb0prgLP+9Yfkx573SZ9GpTx6LPNwiHyP3VIU1PVrmF9D6e2qQjfTrO2nVdDCPBwic2BwQwGN+TXkb/j8IEBmHg6RebBbigIW82vILJiHQ2QuDG4oYGFoLvNryCyYh0NkHgxuKGCThxd7eCDAWTUnNaSMyMPp37SsaiF0N4TWWx/REonPNxGlD3NuyPLJww8XTpKuzWpL3dL52GJDps/DQYukXlOHiNKGLTcUcMnD7gY2/+bXhEvzoklShwmbFCB5OBuOnJd5O06r1km24hClDVtuyJLJw3oYM7h5Obnz1x8+XDMi96ZuQNDy+aqjqT7GeB9OvEmUNmy5IUsmD+v5Nc0q5vfpehH5Kg8HmGhMlDYMbshSycNd6xZXo1UwaoVnu2TGPBxgojGRb7FbiiyVPNy8UkEmY5Lp83A8+Vyz4B+R5xjckCUqD4f8f1cUfviJAiUPJ/bKDTl87qoq5pca3AcX5uEQpY7dUmSZ5GEW56NAy8NpU62wao3xBPNwiFLH4IYskzzMM1kKRGhtZME/Iu9itxSZBn6oEdh4kjyMHBvmIFAgY8E/Iu9jcEOmwORhCmZpSTQG/USAAT6RPQY35HdMHiZKW8G/7zb+pS5MMiayx5wb8ismDxOlv+Afk4yJ7DG4Ib9i8jBR+gv+McmYyB67pcgvmDxM5N08HCYZE/2HwQ1lOCYPE3meh4MTAeTXpIZJxkQMbiiDMXmYKG15OOBOcMMkYyLm3FAGYvIwUcYV+2OSMQUzBjeUYZg8TJR2TDImch+7pSjDYJJAdzB5mMg5JhkTuYfBDWXYyKjD5664dX8mDxN5N8nY3RMLIqtgcEOmGRnF5GEi3yQZHz53VTYevcjWUAoazLkhn4+McjewASYPE3k/yfjzVUek48RNUn/0b0wwpqDA4IZMMTKKycNEvk8y5ggqChbsliK/jozq06i01CsdzeZyogxIMsbJBr5luC/ydvidI6vya8vNyJEjpVatWpIzZ07Jly+ftG3bVg4ePJjiYyZOnCgPPPCA5M6dW12aNGkiW7ZsybB1ptRbbNC37+60CmXy51C5A/yRJUpfgLP+9Yfkx573SZ9GpdweQUVkVX4NbtasWSO9e/eWTZs2yfLly+XWrVvy8MMPy7Vr11w+ZvXq1dKxY0dZtWqVbNy4UYoWLaoec/r06Qxdd0oOTd3o00ffvjtJjpAvZ1afrxdRMCUZl8mf06374wQEJyKsgUNW5NduqSVLlthdnzp1qmrB+eOPP6RBgwZOHzNt2jS76998843MmjVLVq5cKV27dvXp+pJrnFaByBzcPWFwnKahcdlon68bUVDm3MTFxan/8+Rx/4CXkJCgWnxcPSYxMVFddPHx8ep/PAYXb9Kfz9vPa3Y483v3170eT6swuHlZSbpzW5Lu+G7dgnWfmB33i+9UL5JTCkSGy7n4RLe+k3qS8acdKqnr3Cfmwe+JPU+2Q4imaaZok0xKSpLWrVvL5cuXZf369W4/rlevXrJ06VLZu3evZM2a/Izl3XfflWHDhiVbPn36dMmePXu615tEDseFyOf7Qt2+f64smrQvkSRV85rio0dkOTsvhsjkQ3rWQYiTlGJHmuTKIjK0xh1h+huZFRozOnXqpBpCIiMjAyO4eemll2Tx4sUqsClSpIhbjxk1apR88MEHKg+nSpUqbrfcIE/nwoULqW6ctESVyB1q2rSphIWFSbCYv+usDJi5O9X7dalTVB6pmF9qFs+dYQnEwbpPzI77xfeW7j0n/1t0QGLi//v9S02fCnek1+NNuE9Mgt8Tezh+R0dHuxXcmKJbqk+fPrJgwQJZu3at24HNRx99pIKbFStWuAxsIDw8XF0c4YPiqw+LL5/bjArminDrfi2rFPbbtArBtk8CBfeL77SqVkSaVyns0TQN8be4T8yI++RfnmwDv46WQqMRAps5c+bIb7/9JiVLlnTrcWitGTFihEpIrlmzps/Xk1Ie9h0Td10is7qOk9FGg6RFJg8T+WcEFeZrc0dMQohsPn6JI6go4Pm15QbDwJH7Mm/ePFXrJiYmRi2PioqSbNmyqb8xAqpw4cKqJg6MHj1a3nnnHfW4EiVK2B6TI0cOdSFzzRnFaRWIzDNNA5KHUwpblp3OJMsmb7ONoGLFcApUfm25GT9+vOo7a9iwoRQsWNB2+emnn2z3OXnypJw9e9buMTdv3pTHH3/c7jHopiLzzRnFaRWI/I/TNFCw8WvLjTu5zEgWNjpx4oQP14i8MWdUnogwGdKqohSI/Lcrii02RP7HaRoomJgioZisNWfUpWu3VGDjr+RhInId4CBYwfd4w5Hz8vmqo25N08DvMgUaBjfkkdgrN7x6PyLyT5Ixv8tkZQxuyO3uKJzBHT53xa37c84oInNz9zvK7zIFIgY35LWRUcA5o4isM4IK+XMx8TdUyQfmz1Eg8etoKbLWyCgO+yay1ggq5M/1/2mHdJy4SeqP/o2jpyhgMLihdI2MMuKwb6LAHEGF725qODycAgm7pShdI6OgT6PSUq90NJutiQJ4BNXGI7GyZO1mWXQmq1xKSD77MoeHUyBhyw2le5REmfw51OgL/tgRBSZ8d+uUzKNmBncW2DgbHk5kZgxuyCWOpiAKLpg40x0cHk5mx+CGUpwQM2tm1x8RTohJZC2Rbk66fPjcVfUbwQk2yayYc0N2OCEmUfAqFalJgchwORefmOJAgs9XHVEXTrBJZsWWG7LhhJhEwQ3nKW+3KKf+5gSbFMjYckMKJ8QkImhWMT8n2KSAx+CGFE6ISUQ6TrBJQRfcHD9+XNatWyd//fWXJCQkyF133SXVq1eXunXrStasHDUTqDiJHhEZcYJNCorgZtq0afLZZ5/Jtm3bJH/+/FKoUCHJli2bXLp0SY4ePaoCm86dO8vrr78uxYsX9+1ak9dwQkwiSglLQpBlgxu0zGTJkkW6d+8us2bNkqJFi9rdnpiYKBs3bpQZM2ZIzZo15csvv5QOHTr4ap3JSzghJhGlhhNskmWDm1GjRkmzZs1c3h4eHi4NGzZUl/fee09OnDjhzXUkH46McqdKBYd9EwUvfYJN/F7g26+lMMEmcHg4BcxQ8JQCG0d58+aVe++9Nz3rRD7GCTGJyBOcYJOCYrRUUlKSHDlyRGJjY9XfRg0aNPDWupGPcEJMIkrPCCpULx+xcL9cunYz2f04PJwCMrjZtGmTdOrUSY2W0jT7c/+QkBC5c+eON9ePTDAhJhGRcQQVcmucBTY6Dg+ngAtuXnzxRZU0vHDhQilYsKAKaCiwcPQDEaUHh4eT5YKbw4cPyy+//CKlS5f2zRqRT4d848cmOiJcorKFSdx151MAc2QUEaWEJ0hkueCmTp06Kt+GwY11h3wDR0YRkSscHk6WCG527dpl+7tv374ycOBAiYmJkcqVK0tYWJjdfatUqeL9tSSfDfnOlT1MLif814KDFhsO4ySilHB4OFkiuKlWrZrKrTEmEPfo0cP2t34bE4oDb8h31syZZNpzdeTC1UTVhMwzLCLyZHi4O63C+vBwlpQgUwU3mE+KrDnkOyY+UTKFhEibaoUzbL2IyBo4PJwCOrjBXFGYYgGViClwcEQDEfkah4dTQCcUR0VFqZm/GzVqpC733XdfsnwbMheOaCCijMKTKQq46RdgwoQJqgVn8uTJ8uCDD0quXLmkadOmMnLkSFXYj7k25sq1wVkUmonzRGRxeb+Q/0/045BvIkovnkxRQLbcYEZwXODYsWOyevVqWbNmjQp63n77bYmIiJAHHnhAFfcj/3F32DeHfBORN3F4OAX83FJ33323umDEFJKNJ02aJOPGjZMlS5Z4fw3JJzN9c8g3EXkTh4dTQAc3J0+elFWrVqmWG1wuXLig8m9effVV1V1F5h32jbOmIa0qSoFIDvkmIu/j8HAKuOAGrTQIZi5duiT16tVTXVDPP/+81KpVSzJnTlMDEGXwsG+cNSGw4UgFIvIVDg8nM3A7Kpk6daoUK1ZMBg8eLI0bN5bq1atz0kwT4UgFIjILDg+ngAlu9u/fb+uO+vjjj1Xdm/r166uuqIYNG0qNGjUkUya3B1+Rl3GkAhGZDU+6yF/cjkbKli0rL774osyYMUPNK7VhwwZp0aKFbNmyRVq1aiV58uRR/1PG4rBvIjIrnnSRv6Q5WaZChQqSN29eyZ07t7og6Fm8eLF3145SxGHfRBTow8N50kV+D25iY2NVt5TePXXo0CHJkiWL1K5dW/r3768qF1PG4LBvIrLC8PDHaxSWBbvOcOJe8k9wU758eRXMYGQURkg9/vjjKtcGI6eyZmWTYkbisG8iCvTh4XqwM27VUdsy1r6hDA9umjdvLp999plKIs6ePbvT+6BiMWvd+B6HfRNRoA4PR/LwiQsJMmbFoWT3Y+0byvCE4u3bt6vAJaXAhgnFGYMjEIgoUIeHt6pSSGZsPen0PnprNFp50EJN5PPgBsX7nnjiCUlKSkp229q1a6Vly5a2uafItzgCgYis2vJsrH1D5PPgBvNG7dmzJ1kAs27dOtVi061bNzW/FGXcCARXOOybiMyKLc9kquCmUKFCsmzZMlmxYoW8/PLLatn69etVrZtOnTrJF1984cv1JENNG4wseKRifqf34bBvIjIztjyT6YaClypVSrXgYJRUXFyczJkzRzp27CgTJkzw3RpSijVtMmcKkduGvmkO+yaiQK99g9GeMfE31MkcR3uST4Ob+Ph49X+JEiVk2rRp0q5dO2nbtq18+OGHttsgMjIyTStCaatpg8Cmf5MyUiI6gnUiiMgStW8w2rP/TzvU3xweTj7tlsqVK5etGjFybG7evCk///yzmnYBy/TbKWNr2uDHYcbWU2oEAkYiMLAhokCpfYOW5tTow8Nxkkfk9ZYbVCUmc48sYE0bIgrE2jeYG2/Ewv1OZxDHbxxO2XCSh/vzBI68GtywOJ9/cGQBEVm99g1ya5wFNjqexJFPuqWuXbvm0ZN6en9yjSMLiMjqeBJHfgluSpcuLaNGjZKzZ133eWqaJsuXL1fTNIwdO9ab6xjUw77RXJsnIovL+7GmDREFOp7EkV+6pTAD+FtvvSXvvvuuVK1aVWrWrKnq3mDCzH/++Uf27dsnGzduVJNqvvnmm/LCCy94fUWDiath345Y04aIrIDDw8kvwU3ZsmVl1qxZcvLkSZk5c6aqSvz777/L9evXJTo6WqpXry4TJ05UrTahoaFeX8lgktKwb0esaUNEVsDh4eTXIn7FihWTgQMHqgtl/LBv/exlSKuKasZvnr0QkdWGh7vTas3Zw8mrwQ35d9i3fvaCwIYjBojIajg8nDK8iB/5HkcMEFGw04eHF4jK5vbwcCJHDG5MhCMGiIj+xZM9Sg8GNyYcMeAKh30TUbDgyR6lB4MbE9W0WbDrjLStVtjpfTjsm4iC8WQvpV87nuyRVxOKL1++LFu2bJHY2FhJSkqyu61r165pecqg5aqmDeKXJMOwKQ77JqJg4s7w8MHNy6ucG3RNoQWHI0gpzcHN/PnzpXPnznL16lWJjIyUkJD/Pkj4m8GNd2raILDp36SMlIiO4JeWiIKSq+HherDz5tzdcuXGbdty1r+hNAc3qHHTo0cPef/99yV79uyePpzcrGmDL++Mradk/esPMaghoqBlHB6ut9DM23laZmw5ZRfYAOvfUJpzbk6fPi39+vVjYOPjmjYc5khEZD88vE21wqoVe/XB807vp58s4sQRJ5AUvDwObpo1aybbtm3zzdoEEQ5zJCLy3L8F/nhiSF4Oblq2bCmDBg1Sk2hivqlff/3V7uKJkSNHSq1atSRnzpySL18+adu2rRw8eDDVx2F+q3LlyqmJOytXriyLFi2SQMNhjkREnuOJIfkk56Znz57q/+HDhye7DQnFd+7ccfu51qxZI71791YBzu3bt9XM4w8//LCaZTwiIsLpYzBhZ8eOHVVg1KpVK5k+fboKirZv3y6VKlWSQBvm6KprKuT/R0hxmCMR0X94Ykg+abnB0G9XF08CG1iyZIl0795dKlasKFWrVpWpU6eqmcf/+OMPl4/57LPP5JFHHlGtR+XLl5cRI0ZIjRo15PPPP5dA60Pu3/Qep7expg0RUdrq37DYKZmuiF9cXJz6P08e1x/KjRs3SpMmTZLlAWF5IBXsm7fjtMzfcUYty+wQwKDFhtn+RESu699AiIucm6dqFVVFUfFby8Ti4JSmIn7oTvroo49k//796nqFChVUS8oDDzyQ5hVBy88rr7wi9erVS7F7KSYmRvLnz2+3DNex3JnExER10cXHx6v/b926pS7epD+fq+dduvec/G/RAYmJ/299oN9DpaRGsVwSeyVR8uUMl5rFc6svsLfXLxiltk/IP7hfzCeQ9knjstEy7qmqTn9Pw0JDZMyKw7brBSLD5e0W5aRZRfvjRiAIpH2SETzZDiGapnkU1v7www/yzDPPSPv27VUgAhs2bJA5c+aobqVOnTp5vsYi8tJLL8nixYtl/fr1UqRIEZf3y5Ili3z77bcq70b35ZdfyrBhw+TcuXPJ7o/EZ9zmCLk6GTmcfefFEJl8SG8oM55v/Lv5e9yTJFXz8gyDiMhdaJQ5Gh8i8bfwv8iGc5mctOfwN9YqEhISVIyBXh4UEfZqcIM8l+eff1769+9vt/yTTz6RiRMn2lpzPNGnTx+ZN2+erF27VkqWLJnifYsVKyYDBgxQrTy6oUOHyty5c2Xnzp1utdwULVpULly4kOrGSUtUuXz5cmnatKmEhYXZlqNZtOHHa5OdYdgnD4fLqgENmGPjZa72CfkX94v5BPI+sepvbCDvE1/A8Ts6Otqt4Mbjbqljx47Jo48+mmx569at1WgnTyCu6tu3r2r1Wb16daqBDdStW1dWrlxpF9xg52O5M+Hh4eriCB8UX31YHJ9729GLLr90/9VlSJQ//76iClWR9/lyf1Pacb+YTyDuE6v/xgbiPvEFT7aBxwnFaPVAcOFoxYoV6jZPYBg4urnQRYRaN8ibweX69eu2+2CuqjfffNN2/eWXX1ajrD7++GM5cOCA6nZCUUG0/pgV6zIQEfkOf2PJK3NLYfqFHTt2yP3332/LuUG+DYZpe2L8+PHq/4YNG9otnzJlihoiDhganinTfzEYXhPB0Ntvv61aisqUKaO6pMxc44Z1GYiIfIe/sZTu4AaJvwUKFFAtJz///LMtD+enn36SNm3aePRc7qT7oLvKUYcOHdQlUKDeAjL2U+4PZl0GIqL01L7BtAzOjir8jQ0+aRoK3q5dO3Wh1JPc9Jlsi+XN7jS4YcE+IiLv1L7BjOD4FdVSqH2D1hsEOfy9tbY0BTeUuiV7zqqZaR2nV4jIEirXbv5XyRlnE/hSsmAfEVHa4TcUxU+d/e6iUKqx9g1aefi7a21uBTeoGHzo0CE1BCt37txqDilXLl3iTKwo1td3xk6nzaMIbPo3KSMloiN4BkFE5EUIVppWKGBrMd9x8h+Z8vtfctuhSjG6r9DKw0rwQR7cjBkzRo1m0v9OKbgJdvgOjVx0wGlgA9hyM7aekvWvP8SghojIy/C7iuHeSAsYtfiA0/vg9xm/vmjlQTDE3+IgDW66detm+1sfxUTOoVpm6vUWbqgzi0Cst0BEFAjwG+vYPWXE32Jr87jOTWhoqMTGxiZbfvHiRXVbsEMZcHew3gIRke+w9k1w8zi4cTV8G1McYN6nYBfpZgFF1lsgIvId1r4Jbm6Plho7dqz6H/k233zzjeTIkcN22507d9S8UOXKlZNgVypSY00bIiI/Y+2b4OZ2cINEYr3lZsKECXZdUGixKVGihFoe7JCX1r56IflyzfFkt7GmDRFRxmDtm+DmdnBz/Pi/B+tGjRrJ7Nmz1ZBw+g8y8zcfvyRbYkNk5fkzahlr2hARmbP2TVgoa99YmcdF/MaNG+cysMEcT23btpXgLtiHFq1E1YIzvHVFKZQ7u0pY45kBEZH/a99sPnZRpm85JbfusPaNlXmcUNysWTNbK47RrFmzpHPnzhKMgQ2+EI5nBah38+ovuyTu+k1pU62wGmrIwIaIyH+1b1pVKSSrDp53eh891MGJKlriKbB5HNw899xz0qRJE4mJibEtw6SZXbt2VTODBxN8AfBFSOlrwC8KEVHg1b6hIAtuhg0bJi1atFABDqZamD59ujzzzDPy3XffBdRM3d7ALwoRUeBg7ZvgkaaJM5F3gy6o++67T06fPi0//vijtGnTRoINvyhERIGDtW+Ch1vBza+//ppsWfv27WXdunXSsWNHVftGv0/r1q0lWPCLQkQUOFj7Jni4FdykNAJq8uTJ6gIIclDQL1jwi0JEZJ3aN8A6ZEGUc5OUlOTWJZgCG+MXBRy/CizYR0Rk3to3OPF01LZaIYnKlkXm7TgtG49e5GCQYMu5odSLRLFgHxFRYNS+2X8mXiasPSZzd5yROTv+LcIKLOwXRMHN8OHDU7z9nXfekWD9omw8EivL1m2Whx+oI3VL52OLDRGRyWvfQFimfzsxHNtpWNgviIKbOXPm2F2/deuWKuqXOXNmKVWqVFAGN/oXpU7JPHJxv6b+Z2BDRGR+6HoasXCf09sQ7OCXHC3zOIHl77qFg5s///wz2bL4+Hjp3r27tGvXzlvrRUREZKp6ZXpLD1mwiJ8zkZGRqrjfkCFDvPF0REREGYL1yqzJK8ENxMXFqQsREVGgYL0ya/K4W2rs2LF21zVNk7Nnz8r3338vzZs39+a6ERER+RTrlVmTx8HNmDFj7K5nypRJ7rrrLunWrZu8+eab3lw3IiIivxb2w3XWKwuC4AYjo4iIiKxerwzKF8gpUdnCVGE/dE2hBYeBjvmxiB8REQU9x8J+SUmaDJy5U/bHXJGOEzfb7sfCfhYKbjBJprtmz56dnvUhIiLye2G/JXvOirPZF1jYz0KjpaKiomwXDPteuXKlbNu2zXb7H3/8oZbhdiIiokAv7IcuKmf0eAe3c+6pAG+5mTJliu3v119/XZ544gmZMGGChIaGqmWYMLNXr14q8CEiIgpkLOwXhHVuJk+eLK+++qotsAH8PWDAAHUbERFRIGNhvyAMbm7fvi0HDhxIthzLkpKSvLVeREREfsHCfkE4WuqZZ56RZ599Vo4ePSq1a9dWyzZv3iyjRo1StxEREQUyFvYLwuDmo48+kgIFCsjHH3+sKhNDwYIFZdCgQTJw4EBfrCMREVGGYWG/IOyWQkXi1157TU6fPi2XL19WF/yNZcY8HCIiokAv7IcWGkcFIsMlR3hmVdhv49GLHDVlpSJ+58+fl4MHD6q/y5UrJ9HR0d5cLyIiIlMV9osIzyz9ftwuMfGJ0mXSFtv9WNjPAi03165dkx49eqiuqAYNGqgL/kYeTkJCgm/WkoiIyI+F/dpUKyy37yRJws0kl4X9UPiPAjS4wZDvNWvWyPz5823dUvPmzVPLmHNDRERWxMJ+Fg9uZs2aJZMmTZLmzZuron24tGjRQiZOnCi//PKLb9aSiIgoQAr7UQAGN+h6yp8/f7Ll+fLlY7cUERFZEgv7WTy4qVu3rgwdOlRu3PhvB16/fl2GDRumbiMiIrIaFvaz+GipTz/9VB555BEpUqSIVK1aVS3buXOnZM2aVZYuXeqLdSQiIvIrFvazeHBTuXJlOXz4sEybNs02DUPHjh2lc+fOki1bNl+sIxERkV+xsJ+Fg5tbt26pmjYLFiyQnj17+m6tiIiITFrYD6OiHJOL8+f8r7AfuqbQgsNAJ0CCm7CwMLtcGyIiomDiqrDfuSss7BfQCcW9e/eW0aNHq9nBiYiIgg0L+1kw52br1q2ycuVKWbZsmcq/iYiIsLt99uzZ3lw/IiKigCzsh04p3I6WHnZRmTy4yZUrlzz22GO+WRsiIiILFvZDSw+ZOLiZMmWKb9aEiIgogLCwnwVnBY+NjbXNCl62bFlVoZiIiChYsLCfhRKK4+Pj5emnn5bChQvLgw8+qC74u0uXLhIXF+ebtSQiIjJpYT9X2TRYjttZ2C8AghvUt9m8ebOqdaPPCo6/t23bJi+88IJv1pKIiMikhf3AWYDDwn4BFNwgkJk8ebI0a9bMNis4/sas4PPnz/fNWhIREZm4sB+mXnB0T74IicoWpgr7bTx6UY2uIpPm3OTNm1eioqKSLcey3Llze2u9iIiIArKwH9pp+v+0Qw7FXpOOEzfb7sfCfiZuuXn77bdlwIABEhMTY1uGvwcNGiRDhgzx9voREREFVGG/LJkzyR0njTQs7Gfilpvx48fLkSNHpFixYuoCJ0+elPDwcDl//rx89dVXtvtu377du2tLRERkYizsF6DBTdu2bX2zJkRERAGOhf0CNLgZOnSob9aEiIgowLGwX4Dm3BAREZFzLOwXQC03efLkkUOHDkl0dLQaERUS4rqf8NKlS95cPyIiooAr7IfkYWcDv3H0xLBxFvYzQXAzZswYyZkzp/r7008/9fEqERERBXZhP4yKQiDjLMBhYT+TBDfdunVz+jcRERE5L+yHUVGOycXNKuVnnRszJhRjbiln0FWF4eBZsmTxxnoRERFZprDfXxcT5JPlh2T1gfOyeM9ZuXk7SeXdoHuKrTgmCG5y5cqVYs5NkSJFpHv37mpUVaZMzFcmIqLgLuwHmqbJ7O1/y4mLCarLSseqxb7hcfQxdepUKVSokLz11lsyd+5cdcHfmBkcBf6ef/55GTt2rIwaNco3a0xERBRglu6NUYGNI1YtNklw8+2338rHH38sI0aMkEcffVRd8PdHH30kP/30kwwePFgFN999912qz7V27Vr1eARLaA1CoJSaadOmSdWqVSV79uxSsGBB6dGjh1y8eNHTt0FERGSKqsWA2zmxph+Dm99//12qV6+ebDmWbdy4Uf1dv359NSVDaq5du6YClS+++MKt196wYYN07dpVnn32Wdm7d6/MnDlTtmzZIj179vT0bRAREZmuajH5KeemaNGiMmnSpGTdTliG2wAtKe7MEN68eXN1cReCpxIlSki/fv3U9ZIlS8oLL7wgo0eP9vRtEBERZQhWLQ6A4AbdTx06dJDFixdLrVq11LJt27bJgQMH5JdfflHXt27dKk8++aTXV7Zu3boqv2fRokUqKIqNjVWv2aJFC5ePSUxMVBfH0V63bt1SF2/Sn8/bz0tpx31iTtwv5sN94jt5s2d2+37G7c99Ys+T7RCiIYXbQydOnFCzfx88eFBdL1u2rGpBQatKWiHnZs6cOalOzImuKOTZ3LhxQ27fvq1ydmbNmiVhYWFO7//uu+/KsGHDki2fPn26ytshIiLyJaTSDNseKpdv4pqz0caa5MoiMrTGHeGocNcSEhKkU6dOEhcXJ5GRkd4LbhA1PfLIIzJhwgQpU6aMeJM7wc2+ffukSZMm0r9/f2nWrJmcPXtWBg0apFqQ0C3mbssNus8uXLiQ6sbxFLbP8uXLpWnTpi6DLcpY3CfmxP1iPtwnvrV07znpO2On+tvZQffzp6pKs4r57ZZxn9jD8RvTQLkT3HjULYWNu2vXLvGXkSNHSr169VRAA1WqVJGIiAh54IEH5H//+58aPeUIhQVxcfZefPVh8eVzU9pwn5gT94v5cJ/4RqtqRSRz5lCnVYsrFIxUt7vCffIvT7aBxzk3Xbp0cZpQnFFNUpkz269yaGio+j8NvWtERER+q1qMHqj+P+2QfWfjZcqG45InIgurFnuJx8EN8lwmT54sK1askHvvvVe1nBh98sknbj/X1atX5ciRI7brx48flx07dqhZyIsVKyZvvvmmnD592lYzB/k1GPaNYoF6t9Qrr7witWvXVrVyiIiIAqVqMcz8429Zd/iCXR0cvWpx47LRflrLIAxu9uzZIzVq1FB/Hzp0yO62lKZlcAajrBo1amS7PmDAANvknKiEjODFWC8H0zpcuXJFPv/8cxk4cKCaCuKhhx7iUHAiIgo4qEqMwMZV1eJxT1X1y3oFZXCzatUqr714w4YNU+xOQoDjqG/fvupCRERk1arFaCp4b/EBea18hq+aJaR5Zkt0Jy1dulSuX7+urjPnhYiIyJtVixPlaDxzbzIkuEH14caNG8s999yjiueh6wgwJQK6ioiIiMg71YjjWb8vY4Ib1JjBcCzkwhiL4KEi8ZIlS9K2FkREREEEo6LcEckR4BmTc7Ns2TLVHVWkiP2YfBT1++uvv9K2FkREREEEw70xKgrJw86SOtAZVSAqXEpFXvPD2gVhyw1m8nY2bcGlS5ecFssjIiKi5EPCMdzb9YQMIoObl+N0DBkV3KAasF53Rh/+nZSUJB988IHdsG4iIiJKuajf+C41pEBU8i6qIrmyycMV8vllvYKyWwpBDBKKUaPm5s2b8tprr8nevXtVy82GDRt8s5ZERERBULU4e1iovPLTDvn78nX5YvUx+edCiOQ9fknqls7HqsW+DG4qVaqkivehkF7OnDlVleH27dtL7969nc7tRERERO5XLW5wz12yeE+MfPbbUdwq3x3eZqtajGCIfBDcQFRUlAwePDgtDyUiIqIUqhYv2RPjsmoxurEY4PgouLl8+bJs2bJFYmNjVb6NUdeuXdPylEREREFNr1qspVC1GLejG4tdVF4ObubPny+dO3dW3VGRkZF280nhbwY3REREvqpafEPdz9iNRV4YLYUqxD169FDBDVpw/vnnH9sFScVERETku6rF7t4vmHkc3Jw+fVr69evntNYNERER+bZqsbv3C2YeBzfNmjVTw8CJiIjI+1WLXWXTYDlux/3Iyzk3LVu2lEGDBsm+ffukcuXKap4po9atW3v6lEREREFPr1qMUVEIZBwTi3EdtzOZ2AfBTc+ePdX/w4cPT3YbEorv3Lnj6VMSERGRoWoxRkU5JhcXzZNNmlUs4Ld1s3Rw4zj0m4iIiLxftXjjkVhZtm6z3Fezhgz8ZbecunRdvlx9RIrkzq7ybtA9xVYcL9a5ISIiIt9B0FKnZB65uF+TphXyS/0yMbJ83zn5cOkh231YtdgLCcUtWrSQuLg42/VRo0apoeC6ixcvSoUK/85wSkRERN6xdO85Fdi4qlqMqsaUxuBm6dKlkpiYaLv+/vvv29W1uX37thw8eNDdpyMiIqJUJGki/1t0wOltesIx8nNQ3ZjSENxompbidSIiIvKuo/EhEhP/X8NCSlWLKR11boiIiChjxN9y736sWpzG4AbDvI3zSOnLiIiIyDci7UvJucSqxWkcLYVuqO7du0t4eLi6fuPGDXnxxRclIiJCXTfm4xAREVH6lYrUpEBkuJyLT3Q6WziaGAqwanHag5tu3brZXe/SpUuy+3BGcCIiIu9BGZu3W5STvjN2smqxL4KbKVOmePK8RERE5AXNKuZ3WbW4SuFI1rlxgkX8iIiIAqRqMUZFIXkYQ78H/LxTdp2Olx+3/CXZs2Rm1WIDBjdEREQBAEFL3VJ5bdenbz4p2/76R96cvce2jFWL/8Wh4ERERAEGVYkR2Dhi1eJ/MbghIiIKIOiSQv6NM6xa/C8GN0RERAEEeTeOicVGGqsWM7ghIiIKJO5WI44N4qrFDG6IiIgCiLvViPMFcdViBjdEREQBBMO9MSrK1YDvkP8fNRXMVYsZ3BAREQXYkHAM9wZXAc7QIK9azOCGiIgowKCODaoWY14pRy0qFwz6Ojcs4kdERGSBqsXHzl+Tz1YelvVHLsjVxNuSIzx4D/HB+86JiIgsVLUYdW3m7zwjxy5ck5GL9kntknmDdkoGBjdEREQWgACmXuloFdxM23xKXYJ1Sgbm3BAREVkAplz4YdNfyZYH45QMDG6IiIgsMiWDswkXtCCckoHBDRERUYDjlAz2GNwQEREFOE7JYI/BDRERUYDjlAz2GNwQEREFOE7JYI/BDRERkcWnZNCCbEoGBjdEREQWn5KhSuGooKpzwyJ+REREFp2S4XaSJgN/3im7TsfJ4XNXpEz+nBIMGNwQERFZdEoGWL73nCzZGyPjVx+VDjWLqqDH6tMyMLghIiKysBcbllLBzew/T6uLzsrTMjDnhoiIyMJi4q67WG7daRkY3BAREVl8WgYJsmkZGNwQERFZ1JYgnZaBwQ0REZFFxQbptAwMboiIiCwqX5BOy8DghoiIyKJqB+m0DAxuiIiIgnRaBrHotAwMboiIiIJwWoaw0BD5snMNS9a5YRE/IiKiIJqW4dj5q/Lur3vl1h1NckdkESticENERBRE0zLULZVX9sfEyw+bTspXa46KponlpmRgcENERBRknqt/twpuVh08ry5Wm5KBOTdERERB5kBMvKWnZGBwQ0REFETuBMGUDAxuiIiIgsiWIJiSgcENERFREIkNgikZ/BrcrF27Vh599FEpVKiQhISEyNy5c1N9TGJiogwePFiKFy8u4eHhUqJECZk8eXKGrC8REVGgyxcEUzL4dbTUtWvXpGrVqtKjRw9p3769W4954okn5Ny5czJp0iQpXbq0nD17VpKSkny+rkRERFaakiEm7oYtx8YIA8ELBPiUDH4Nbpo3b64u7lqyZImsWbNGjh07Jnny/LvR0XJDREREnk3J8NIP21Ugo1lwSoaAqnPz66+/Ss2aNeWDDz6Q77//XiIiIqR169YyYsQIyZYtm8tuLFx08fH/Dn+7deuWuniT/nzefl5KO+4Tc+J+MR/uk+DaJ43LRsu4p6rK/xYdkJj4/46RmTOFyJgnKqvbzfZZ8GR9Aiq4QYvN+vXrJWvWrDJnzhy5cOGC9OrVSy5evChTpkxx+piRI0fKsGHDki1ftmyZZM+e3SfruXz5cp88L6Ud94k5cb+YD/dJcO2T1yuIHI0PkdjrIrNOZJLbSSIHd/0pSX+Zbxh4QkKC2/cN0TQUXvY/JBQjYGnbtq3L+zz88MOybt06iYmJkaioKLVs9uzZ8vjjj6v8HWetN85abooWLaoCo8jISK9HlfgQNm3aVMLCwrz63JQ23CfmxP1iPtwn5pPR+2To/H0yfcvf0vCevPJc/ZISeyVR8uUMl5rFc5uiiwrH7+joaImLi0v1+B1QLTcFCxaUwoUL2wIbKF++vCA++/vvv6VMmTLJHoMRVbg4wgfFVx8WXz43pQ33iTlxv5gP90nw7pOeDUqr4Gb1oYvqYrYpGTzZBgFV56ZevXpy5swZuXr1qm3ZoUOHJFOmTFKkSBG/rhsREVEgO2ihKRn8GtwgSNmxY4e6wPHjx9XfJ0+eVNfffPNN6dq1q+3+nTp1krx588ozzzwj+/btU3VyBg0apIaSu0ooJiIiouCaksGvwc22bdukevXq6gIDBgxQf7/zzjvqOmrY6IEO5MiRQ/U/Xr58WY2a6ty5syoCOHbsWL+9ByIiokC3xWJTMvg156Zhw4YqX8aVqVOnJltWrlw5ZvMTERF5UazFpmQIqJwbIiIi8r58FpuSgcENERFRkKv9/1MyuBrwjeUFA2hKBgY3REREQS70/6dkAFcBTiBNycDghoiIiAR1bMZ3qaEmzTQKz5xJLfd3nRtPBFQRPyIiIvKdRyoVlKYVCqhRUQfOxsvwBfsk8XaSlIiOkEDClhsiIiKyQddT3VJ55Zn6JaV55QJq2aR1xyWQMLghIiIip56tf7f6f+6fp2XxnrMyb8dp2Xj0oumL+bFbioiIiJy6t3huKRmdXY5fSFBTMJhtvilX2HJDRERETmE+KQQ2gTbfFIMbIiIistR8UwxuiIiIyFLzTTG4ISIiIkvNN8XghoiIiCw13xSDGyIiIrLUfFMMboiIiMhS800xuCEiIiKP5puCjzpUNW2dGxbxIyIiIrfmm4qNvyEfLTsop/65LheuJopZMbghIiIit+abAkyk+dqsXTJ1w3GpWChSLl67qZKKkXtjli4qBjdERETkttbVCqnZws/GJ0qXSVtMOSUDc26IiIjIbasPxsrVxNumnpKBwQ0RERFZakoGBjdERERkqSkZGNwQERGRpaZkYHBDRERElpqSgcENERERWWpKBgY3REREZKkpGRjcEBERUbqnZAgLDZEvO9cwRZ0bFvEjIiKiNE/JcPzCVXln3l65dUeTfJHhYgZsuSEiIqI0T8nQqU5xaV+jsFo2ZcMJMQMGN0RERJQu3e8vqf5ftPusLNx1RubtOC0bj170WzE/dksRERFRulQoFCll8uWQw7FXpff0P/0+3xRbboiIiChdMJ8UAhuzzDfF4IaIiIgsNd8UgxsiIiKy1HxTDG6IiIjIUvNNMbghIiIiS803xeCGiIiILDXfFIMbIiIi8sl8UyF+mm+KwQ0RERH5ZL4pXMfyjK5zwyJ+RERE5NX5ppA8jBwbdEX5Y4ZwBjdERETk1fmm/I3dUkRERGQpDG6IiIjIUhjcEBERkaUwuCEiIiJLYXBDRERElsLghoiIiCyFwQ0RERFZCoMbIiIishQGN0RERGQpQVehWNM09X98fLzXn/vWrVuSkJCgnjssLMzrz0+e4z4xJ+4X8+E+MR/uE3v6cVs/jqck6IKbK1euqP+LFi3q71UhIiKiNBzHo6KiUrxPiOZOCGQhSUlJcubMGcmZM6eEhIR4PapE0HTq1CmJjIz06nNT2nCfmBP3i/lwn5gP94k9hCsIbAoVKiSZMqWcVRN0LTfYIEWKFPHpa+BDyA+iuXCfmBP3i/lwn5gP98l/Umux0TGhmIiIiCyFwQ0RERFZCoMbLwoPD5ehQ4eq/8kcuE/MifvFfLhPzIf7JO2CLqGYiIiIrI0tN0RERGQpDG6IiIjIUhjcEBERkaUwuPGSL774QkqUKCFZs2aVOnXqyJYtW/y9SkFl5MiRUqtWLVWcMV++fNK2bVs5ePCg3X1u3LghvXv3lrx580qOHDnksccek3PnzvltnYPNqFGjVOHMV155xbaM+yTjnT59Wrp06aK2ebZs2aRy5cqybds22+1Iw3znnXekYMGC6vYmTZrI4cOH/brOVnbnzh0ZMmSIlCxZUm3vUqVKyYgRI+ymGOA+SQMkFFP6zJgxQ8uSJYs2efJkbe/evVrPnj21XLlyaefOnfP3qgWNZs2aaVOmTNH27Nmj7dixQ2vRooVWrFgx7erVq7b7vPjii1rRokW1lStXatu2bdPuu+8+7f777/fregeLLVu2aCVKlNCqVKmivfzyy7bl3CcZ69KlS1rx4sW17t27a5s3b9aOHTumLV26VDty5IjtPqNGjdKioqK0uXPnajt37tRat26tlSxZUrt+/bpf192q3nvvPS1v3rzaggULtOPHj2szZ87UcuTIoX322We2+3CfeI7BjRfUrl1b6927t+36nTt3tEKFCmkjR47063oFs9jYWJz2aGvWrFHXL1++rIWFhakfDt3+/fvVfTZu3OjHNbW+K1euaGXKlNGWL1+uPfjgg7bghvsk473++uta/fr1Xd6elJSkFShQQPvwww9ty7CfwsPDtR9//DGD1jK4tGzZUuvRo4fdsvbt22udO3dWf3OfpA27pdLp5s2b8scff6hmQuMUD7i+ceNGv65bMIuLi1P/58mTR/2PfYQZdo37qVy5clKsWDHuJx9Dt1PLli3ttj1wn2S8X3/9VWrWrCkdOnRQ3bfVq1eXiRMn2m4/fvy4xMTE2O0TlLtHVzv3iW/cf//9snLlSjl06JC6vnPnTlm/fr00b95cXec+SZugm1vK2y5cuKD6TPPnz2+3HNcPHDjgt/UKZpgcFXkd9erVk0qVKqll+HHIkiWL5MqVK9l+wm3kGzNmzJDt27fL1q1bk93GfZLxjh07JuPHj5cBAwbIW2+9pfZLv3791H7o1q2bbbs7+z3jPvGNN954Q02QicA+NDRUHU/ee+896dy5s7qd+yRtGNyQJVsK9uzZo85+yH8wk/HLL78sy5cvV4n2ZI7AHy0377//vrqOlht8VyZMmKCCG8p4P//8s0ybNk2mT58uFStWlB07dqiTM8x8zX2SduyWSqfo6GgVbTuO8MD1AgUK+G29glWfPn1kwYIFsmrVKrvZ37Ev0IV4+fJlu/tzP/kOup1iY2OlRo0akjlzZnVZs2aNjB07Vv2NM0/uk4yF0TYVKlSwW1a+fHk5efKk+lvf7vw9yziDBg1SrTdPPfWUGrn29NNPS//+/dUIUOA+SRsGN+mE5tx7771X9Zkaz45wvW7dun5dt2CC5HgENnPmzJHffvtNDas0wj4KCwuz208YKo4fde4n32jcuLHs3r1bnYnqF7QaoLld/5v7JGOhq9axRAJyPYoXL67+xvcGB0zjPkGXyebNm7lPfCQhIUHlaRrhhBnHEeA+SaM0JiKTw1BwZK5PnTpV27dvn/b888+roeAxMTH+XrWg8dJLL6mhkqtXr9bOnj1ruyQkJNgNO8bw8N9++00NO65bt666UMYxjpYC7pOMH5KfOXNmNfz48OHD2rRp07Ts2bNrP/zwg92wY/x+zZs3T9u1a5fWpk0bDjv2oW7dummFCxe2DQWfPXu2Fh0drb322mu2+3CfeI7BjZeMGzdO/Uij3g2Ghm/atMnfqxRUEKc7u6D2jQ4/BL169dJy586tftDbtWunAiDyX3DDfZLx5s+fr1WqVEmdkJUrV077+uuv7W7H0OMhQ4Zo+fPnV/dp3LixdvDgQb+tr9XFx8er7wSOH1mzZtXuvvtubfDgwVpiYqLtPtwnnuOs4ERERGQpzLkhIiIiS2FwQ0RERJbC4IaIiIgshcENERERWQqDGyIiIrIUBjdERERkKQxuiIiIyFIY3BAREZGlMLghClInTpyQkJAQNc8TrF69Wl13nMjSG0qUKCGffvppivfBa8+dO9ft55w6darkypVLMsLatWulWrVqki1bNqldu7aaFDQ1mBS0dOnS8vvvv4u/uLPd3YFJHT/++GOvrBNRRmBwQ+QH3bt3VwdzXDD5Kg6Cw4cPl9u3b/t71QLGk08+qSZ99LW//vpLWrZsKU888YTs27dPGjRoIM2aNZPz58+n+LgJEyaoSQ/vv/9+CXRvv/22vPfeexIXF+fvVSFyC4MbIj955JFH5OzZs3L48GEZOHCgvPvuu/Lhhx/6e7UCBlpR8uXL5/PXGTt2rFSsWFHeeustFaxgH+XPn1+++uorl4/BrDaff/65PPvss+l6bTyPPwNetD5BpUqVpFSpUvLDDz/4bV2IPMHghshPwsPDpUCBAlK8eHF56aWXpEmTJvLrr7+q2z755BOpXLmyRERESNGiRaVXr15y9erVZF0yS5culfLly0uOHDlswZLRN998o27PmjWrlCtXTr788stU1wtdLjVr1pTs2bOrVoeDBw/abjt69Ki0adNGHdzxnDVq1JCFCxfKn3/+qdYfj8H69uvXT65du+byNRDQoQUEz1GhQgVZvny50y6z2bNnS6NGjdTzVq1aVTZu3JhsG+gQHKLr6Pvvv1fdMVFRUao75cqVK7b74O/OnTur7VqwYEEZM2aMNGzYUF555RWX67pixQrVcqPDeuG9YnlK2xDbyvg4QBcV1hHvG9sY3XDOugYXL14s9957r/qMrF+/3m67Y1/XqlUr2evHxsbKo48+qoI+BGHTpk1Ltl7ocnzuuefkrrvuksjISHnooYdk586dybYhPjd4DqynDs89Y8YMl++ZyEwY3BCZBA5K+plypkyZVIvB3r175dtvv5XffvtNXnvtNbv7JyQkyEcffaQO5sgJOXnypLz66qu223Fwe+edd1R3wv79++X999+XIUOGqOdLyeDBg1V+xbZt2yRz5szSo0cP220IsFq0aCErV66U3bt3q4N3u3btVIDQtGlTdaCcOXOmOiD36dPH6fMnJSVJ+/btVXfc5s2bVffN66+/7nJd8J5w8L/nnnukY8eOKbZkIAhAwLBgwQJ1WbNmjYwaNcp2+4ABA2TDhg0qiERAtW7dOtm+fXuK2+PYsWOq29CoTJkyarkreF6sb86cOW3L4uPjVYCAoBWvOWLECJfv+4033lDrjf1WpUoVu+2OQBKBLJ4L+9zY1Xnq1ClZtWqV/PLLLyqQRcBj1KFDB7UMwRMCMASnjRs3lkuXLtnuc+TIEZk1a5YKLPWgC5BrtGXLFklMTExxexGZQhpmEieidOrWrZvWpk0b9XdSUpK2fPlyLTw8XHv11Ved3n/mzJla3rx5bdenTJmi4et75MgR27IvvvhCy58/v+16qVKltOnTp9s9z4gRI7S6deuqv48fP66e488//1TXV61apa6vWLHCdv+FCxeqZdevX3f5XipWrKg9+eSTdsvWrVunZcqUyfa44sWLa2PGjFF/L126VMucObN2+vRp2/0XL16sXmfOnDl26/bNN9/Y7rN37161bP/+/bZtEBUVZbt96NChWvbs2bX4+HjbskGDBml16tRRf2N5WFiY2pa6y5cvq8e8/PLLLt8f3kfWrFm1iIgI2wX7yrg/HOH5HnroIbtl48ePV48xbsuJEyc63Qdz587VUoPtPm7cOPX3wYMH1eO2bNliux3bCcv07Y59EhkZqd24ccPuefA5+eqrr2zbENsoNjY22evt3LlTPd+JEydSXTcif8vs7+CKKFihZQFdDLdu3VKtGZ06dVLdAoAuh5EjR8qBAwfUGT9aK27cuKFaa9BFA/gfeRA6dLPoZ+roEkIrBnI+evbsabsPngfdNSlBS4HxOQHPW6xYMdWCgHVEVxS6wPB8169fV4m9eC/GXBG8p+PHj6tuMSO0RqDrqlChQrZldevW9Whd0MXmDLqjjK0lxm2ClhZsa7RA6LAtypYtm+L2wHZGKwqSiHXTp09XXTeuYJsYu3QA3Xt4P8blxnUxQpeVkavtrrfcYJuilQ1dWTpsI2O3HVrV8Dx58+ZNtq74rOjQTYpuK2cti4DPIJHZMbgh8hPkkowfP151z+BAj4OTnm/SqlUrlYeDLqU8efKobh4EKui20oObsLAwu+dDrgaCCtDzcyZOnCh16tSxu19oaGiK62V8XjwnIFABdBGhOwfdYeiqwQHv8ccfl+rVq6suJEcIiNIjpXVJ7f76Y1K6vzvuvvtu9bzGrik8L5a7Eh0drbrt0go5QUautrvejekOfCYQ7CGvx5ExCHJ8bZ3edeUs8CEyGwY3RH6Cg4hjLgcgFwIHZOS9IPcGfv75Z4+eG4mnCJjQWoEEWm9BvgpyO5Bnox8wEYzpw9ndgZYc5IagBUJvjdm0aZP4mh6kbN261RZ0YWgzWp2Q3OwKcomQQ/P888/bliHQMLbkOEKwh8AVwaYelKGFCKONkLOCRGHAuqRnuxtbadCag88Oko31liJjzSLk18TExKggGi1cntqzZ48UKVJEBW5EZseEYiKTQZCA7pNx48ap4AQJw0i69dSwYcNU1xYSk3EAR0vClClT1EistEIirZ5oim4OdKVh5BAOpGhZQrIrujjQ5da7d2+nz4H7I9m2W7du6jkQODhr9fE2dFfhNQcNGqSSbpGsjXVGAKkHIM5g5BfeD4IV1LzRE31feOGFFFvlEIDgNXTYVghaESTh8RjphpYYSOn1XW13Y4sUAickGWOdkKSNIAejovSuJH27o/uvbdu2smzZMhUcYfQWtj2Sx1OD/fTwww+nej8iM2BwQ2QyGPKMAGT06NGqvghGPSFI8RQObsgLQUCDEToPPvigGj6NIb5phaHTqC1Tv359daBDK8yPP/6oDnxnzpxRo6aw/jhgFi5c2OlzIJiYM2eOyvVAzgnWE91vGQHbFQd4dPvhYF+vXj3bUHlX0MqD0VWoa4MgAiOJlixZkmILBvJa0MpiHI6Nodfz589XAQqGW2MbYTQbpPT6+nrnzp1bDc3HKCm0GqElxgj7Ga112M8YjYYgylgHCAHUokWLVCvVM888owJMDJVHwIaWvpQg3wuj0Iz5W0RmFoKsYn+vBBGRPyDxGkEYugDTW3DP0a5du1SXFlqyjMnWRgh+EGige8zYymI2aLVCQIoWH6JAwJwbIgoa6DbDCDS0GCGgwJQXgAJ53oaRUWh9w4gxtJzBd999p3J/EFChewl1bjCtg5kDG0CuErpJiQIFW26IKKiCG3SDIUcISdAYOq1Xg84IH3zwgSquh8ReJFMj/wVdcvoIOCLyDgY3REREZClMKCYiIiJLYXBDRERElsLghoiIiCyFwQ0RERFZCoMbIiIishQGN0RERGQpDG6IiIjIUhjcEBERkaUwuCEiIiKxkv8Du/FE7kLGwxMAAAAASUVORK5CYII=",
>>>>>>> 35702b0772fb19729cebce6298f2fad100361777
      "text/plain": [
       "<Figure size 640x480 with 1 Axes>"
      ]
     },
     "metadata": {},
     "output_type": "display_data"
    },
    {
     "data": {
      "text/plain": [
       "35"
      ]
     },
     "execution_count": 143,
     "metadata": {},
     "output_type": "execute_result"
    }
   ],
   "source": [
    "hældninger = np.arange(0, 91)  # 0° til 90°\n",
    "plt.plot(hældninger, wh_energier, marker='o')\n",
    "plt.xlabel(\"Panelhældning θ (grader)\")\n",
    "plt.ylabel(\"Energiproduktion (KWh)\")\n",
    "plt.title(\"Energiproduktion den 20. april 2024\\nfor forskellige panelhældninger\")\n",
    "plt.grid(True)\n",
    "plt.show()\n",
    "np.argmax(wh_energier)"
   ]
  },
  {
   "cell_type": "code",
   "execution_count": 144,
   "id": "0bbc6344",
   "metadata": {},
   "outputs": [
    {
     "name": "stdout",
     "output_type": "stream",
     "text": [
      "                  HourUTC               HourDK PriceArea  SpotPriceDKK  \\\n",
      "0     2024-12-31T21:00:00  2024-12-31T22:00:00       DK2     59.529999   \n",
      "1     2024-12-31T20:00:00  2024-12-31T21:00:00       DK2    117.120003   \n",
      "2     2024-12-31T19:00:00  2024-12-31T20:00:00       DK2    168.509995   \n",
      "3     2024-12-31T18:00:00  2024-12-31T19:00:00       DK2    180.820007   \n",
      "4     2024-12-31T17:00:00  2024-12-31T18:00:00       DK2    193.729996   \n",
      "...                   ...                  ...       ...           ...   \n",
      "8778  2024-01-01T03:00:00  2024-01-01T04:00:00       DK2    178.990005   \n",
      "8779  2024-01-01T02:00:00  2024-01-01T03:00:00       DK2    182.490005   \n",
      "8780  2024-01-01T01:00:00  2024-01-01T02:00:00       DK2    198.740005   \n",
      "8781  2024-01-01T00:00:00  2024-01-01T01:00:00       DK2    212.160004   \n",
      "8782  2023-12-31T23:00:00  2024-01-01T00:00:00       DK2    217.160004   \n",
      "\n",
      "      SpotPriceEUR  \n",
      "0         7.980000  \n",
      "1        15.700000  \n",
      "2        22.590000  \n",
      "3        24.240000  \n",
      "4        25.969999  \n",
      "...            ...  \n",
      "8778     24.010000  \n",
      "8779     24.480000  \n",
      "8780     26.660000  \n",
      "8781     28.459999  \n",
      "8782     29.129999  \n",
      "\n",
      "[8783 rows x 5 columns]\n"
     ]
    },
    {
     "data": {
      "text/plain": [
       "5379.092896115253"
      ]
     },
     "execution_count": 144,
     "metadata": {},
     "output_type": "execute_result"
    }
   ],
   "source": [
    "# henter pris data\n",
    "import requests\n",
    "import pandas as pd\n",
    "\n",
    "endpoint = \"https://api.energidataservice.dk/dataset/elspotprices\"\n",
    "params = {\n",
    "    \"start\": \"2024-01-01T00:00\",\n",
    "    \"end\": \"2024-12-31T23:00\",\n",
    "    \"filter\": '{\"PriceArea\":[\"DK2\"]}'  # <-- fixed JSON string\n",
    "}\n",
    "\n",
    "response = requests.get(endpoint, params=params)\n",
    "data = response.json()\n",
    "df = pd.DataFrame(data['records'])\n",
    "# Konverter evt. enheder (øre/kroner, kWh/J/MJ) hvis nødvendigt.\n",
    "# følgende er forkert, dvs. tidsrumer ganget med forskudte.\n",
    "print(df)\n",
    "energi = integrate.simpson(flux_array, dx=3600)\n",
    "energi"
   ]
  },
  {
   "cell_type": "code",
   "execution_count": 145,
   "id": "f82cfcae",
   "metadata": {},
   "outputs": [
    {
     "data": {
      "text/plain": [
       "((8783,), 8783)"
      ]
     },
     "execution_count": 145,
     "metadata": {},
     "output_type": "execute_result"
    }
   ],
   "source": [
    "# nyt solpos object, der paser til mængden fra tidligere, men med gennemsnit over timer, og mangler sidste time af 12-31, \n",
    "tidszone = \"Europe/Copenhagen\"\n",
    "start_dato = \"2024-01-01\"\n",
    "slut_dato = \"2024-12-31\"\n",
    "delta_tid = \"h\"  # \"Min\", \"H\",\n",
    "\n",
    "# Definition of Location object. Coordinates and elevation of Amager, Copenhagen (Denmark)\n",
    "site = Location(\n",
    "    55.47092, 12.31168, tidszone, 10, \"Danmarks Tekniske Universitet (DK)\"\n",
    ")  # latitude, longitude, time_zone, altitude, name\n",
    "\n",
    "# Højde er ca 50 m MOH\n",
    "\n",
    "# Definition of a time range of simulation\n",
    "times = pd.date_range(\n",
    "    start_dato + \" 00:00:00\", slut_dato + \" 22:59:59\", inclusive=\"left\", freq=delta_tid, tz=tidszone\n",
    ")\n",
    "\n",
    "# Estimate Solar Position with the 'Location' object\n",
    "solpos = site.get_solarposition(times)\n",
    "\n",
    "solpos.zenith.shape\n",
    "\n",
    "times.shape, 366*24-1\n",
    "\n",
    "\n"
   ]
  },
  {
   "cell_type": "code",
   "execution_count": null,
   "id": "5943294d",
   "metadata": {},
   "outputs": [
    {
     "data": {
      "text/plain": [
       "37"
      ]
     },
     "execution_count": 41,
     "metadata": {},
     "output_type": "execute_result"
    }
   ],
   "source": [
    "np.argmax(wh_energier)"
   ]
  },
  {
   "cell_type": "code",
   "execution_count": null,
   "id": "b7e7c80f",
   "metadata": {},
   "outputs": [],
   "source": [
    "def solar_panel_projection(theta_sol, phi_sol, theta_panel, phi_panel):\n",
    "    theta_sol = np.asarray(theta_sol)\n",
    "    phi_sol = np.asarray(phi_sol)\n",
    "    WnLB = 0.185*1.63*550 # n er overførelsen, altså hvor meget energi fra solen er arbejdsom, målt fra når den rammer pannelet til den kommer ind i et andet kredsløb\n",
    "    u_s = np.array([\n",
    "        np.sin(theta_sol) * np.cos(phi_sol),\n",
    "        np.sin(theta_sol) * np.sin(phi_sol),\n",
    "        np.cos(theta_sol)\n",
    "    ])\n",
    "\n",
    "    u_p = np.array([\n",
    "        np.sin(theta_panel) * np.cos(phi_panel),\n",
    "        np.sin(theta_panel) * np.sin(phi_panel),\n",
    "        np.cos(theta_panel)\n",
    "    ])\n",
    "\n",
    "    dot_products = WnLB * u_s.T@u_p\n",
    "    return np.maximum(dot_products, 0)\n",
    "\n",
    "# solar_panel_projection(np.array([1,2,3]), np.array([1,3,3]), np.array([1]), np.array([1]))"
   ]
  },
  {
   "cell_type": "code",
   "execution_count": 150,
   "id": "3b860ca9",
   "metadata": {},
   "outputs": [
    {
     "name": "stdout",
     "output_type": "stream",
     "text": [
      "[0.         0.         0.         0.         0.         0.\n",
      " 0.         0.         0.         0.         0.         0.\n",
      " 0.         0.         0.         0.17152494 0.21897085 0.25074213\n",
      " 0.26467397 0.25981655 0.23649982 0.1963111  0.         0.\n",
      " 0.         0.         0.         0.         0.         0.\n",
      " 0.         0.         0.         0.         0.         0.\n",
      " 0.         0.         0.         0.17126746 0.21885627 0.25078118\n",
      " 0.26486684 0.26015287 0.2369594  0.19686526 0.         0.\n",
      " 0.         0.         0.         0.         0.         0.\n",
      " 0.         0.         0.         0.         0.         0.\n",
      " 0.         0.         0.         0.17102712 0.21875994 0.25083859\n",
      " 0.26507715 0.26050477 0.23743184 0.19742894 0.         0.\n",
      " 0.         0.         0.         0.         0.         0.\n",
      " 0.         0.         0.         0.         0.         0.\n",
      " 0.         0.         0.         0.17080414 0.21868195 0.25091429\n",
      " 0.2653047  0.26087189 0.23791668 0.19800159 0.         0.\n",
      " 0.         0.         0.         0.         0.         0.\n",
      " 0.         0.         0.         0.         0.         0.\n",
      " 0.         0.         0.         0.17059872 0.21862236 0.2510082\n",
      " 0.26554924 0.26125386 0.23841346 0.19858268 0.         0.\n",
      " 0.         0.         0.         0.         0.         0.\n",
      " 0.         0.         0.         0.         0.         0.\n",
      " 0.         0.         0.         0.17041107 0.21858121 0.2511202\n",
      " 0.26581052 0.2616503  0.23892167 0.19917162 0.         0.\n",
      " 0.         0.         0.         0.         0.         0.\n",
      " 0.         0.         0.         0.         0.         0.\n",
      " 0.         0.         0.         0.17024137 0.21855854 0.25125016\n",
      " 0.26608825 0.26206078 0.23944079 0.19976781 0.         0.\n",
      " 0.         0.         0.         0.         0.         0.\n",
      " 0.         0.         0.         0.         0.         0.\n",
      " 0.         0.         0.         0.1700898  0.21855437 0.25139796\n",
      " 0.26638214 0.26248488 0.23997027 0.20037064 0.         0.\n",
      " 0.         0.         0.         0.         0.         0.\n",
      " 0.         0.         0.         0.         0.         0.\n",
      " 0.         0.         0.         0.16995655 0.21856872 0.25156342\n",
      " 0.26669187 0.26292214 0.24050956 0.20097947 0.         0.\n",
      " 0.         0.         0.         0.         0.         0.\n",
      " 0.         0.         0.         0.         0.         0.\n",
      " 0.         0.         0.         0.16984178 0.21860157 0.25174638\n",
      " 0.26701712 0.26337208 0.24105806 0.20159364 0.         0.\n",
      " 0.         0.         0.         0.         0.         0.\n",
      " 0.         0.         0.         0.         0.         0.\n",
      " 0.         0.         0.         0.16974566 0.21865294 0.25194666\n",
      " 0.26735753 0.26383422 0.24161518 0.20221249 0.         0.\n",
      " 0.         0.         0.         0.         0.         0.\n",
      " 0.         0.         0.         0.         0.         0.\n",
      " 0.         0.         0.         0.16966834 0.21872278 0.25216407\n",
      " 0.26771275 0.26430806 0.24218032 0.20283535 0.         0.\n",
      " 0.         0.         0.         0.         0.         0.\n",
      " 0.         0.         0.         0.         0.         0.\n",
      " 0.         0.         0.         0.16960995 0.21881107 0.25239838\n",
      " 0.26808242 0.26479311 0.24275288 0.20346156 0.14959437 0.\n",
      " 0.         0.         0.         0.         0.         0.\n",
      " 0.         0.         0.         0.         0.         0.\n",
      " 0.         0.         0.         0.16957058 0.21891773 0.25264938\n",
      " 0.26846613 0.26528885 0.24333225 0.20409046 0.15023532 0.\n",
      " 0.         0.         0.         0.         0.         0.\n",
      " 0.         0.         0.         0.         0.         0.\n",
      " 0.         0.         0.         0.16955031 0.21904266 0.25291678\n",
      " 0.26886351 0.26579476 0.24391783 0.20472141 0.15087424 0.\n",
      " 0.         0.         0.         0.         0.         0.\n",
      " 0.         0.         0.         0.         0.         0.\n",
      " 0.         0.         0.         0.16954915 0.21918573 0.25320032\n",
      " 0.26927411 0.26631031 0.24450903 0.20535378 0.1515105  0.\n",
      " 0.         0.         0.         0.         0.         0.\n",
      " 0.         0.         0.         0.         0.         0.\n",
      " 0.         0.         0.         0.16956707 0.21934675 0.25349966\n",
      " 0.2696975  0.26683498 0.24510526 0.20598696 0.15214353 0.\n",
      " 0.         0.         0.         0.         0.         0.\n",
      " 0.         0.         0.         0.         0.         0.\n",
      " 0.         0.         0.         0.16960402 0.21952551 0.25381446\n",
      " 0.27013323 0.26736822 0.24570592 0.20662036 0.15277275 0.\n",
      " 0.         0.         0.         0.         0.         0.\n",
      " 0.         0.         0.         0.         0.         0.\n",
      " 0.         0.         0.         0.16965989 0.21972178 0.25414436\n",
      " 0.27058082 0.26790949 0.24631044 0.20725339 0.15339763 0.\n",
      " 0.         0.         0.         0.         0.         0.\n",
      " 0.         0.         0.         0.         0.         0.\n",
      " 0.         0.         0.         0.16973455 0.21993528 0.25448897\n",
      " 0.27103979 0.26845824 0.24691825 0.2078855  0.15401765 0.\n",
      " 0.         0.         0.         0.         0.         0.\n",
      " 0.         0.         0.         0.         0.         0.\n",
      " 0.         0.         0.         0.16982782 0.22016572 0.25484787\n",
      " 0.27150965 0.26901394 0.24752879 0.20851615 0.15463233 0.\n",
      " 0.         0.         0.         0.         0.         0.\n",
      " 0.         0.         0.         0.         0.         0.\n",
      " 0.         0.         0.         0.16993952 0.22041278 0.25522066\n",
      " 0.2719899  0.26957603 0.24814149 0.20914479 0.15524118 0.\n",
      " 0.         0.         0.         0.         0.         0.\n",
      " 0.         0.         0.         0.         0.         0.\n",
      " 0.         0.         0.         0.17006945 0.22067614 0.2556069\n",
      " 0.27248004 0.27014397 0.24875581 0.20977091 0.15584375 0.\n",
      " 0.         0.         0.         0.         0.         0.\n",
      " 0.         0.         0.         0.         0.         0.\n",
      " 0.         0.         0.         0.17021737 0.22095544 0.25600615\n",
      " 0.27297956 0.27071722 0.2493712  0.210394   0.15643959 0.\n",
      " 0.         0.         0.         0.         0.         0.\n",
      " 0.         0.         0.         0.         0.         0.\n",
      " 0.         0.         0.         0.17038305 0.22125034 0.25641795\n",
      " 0.27348794 0.27129522 0.24998711 0.21101353 0.15702826 0.\n",
      " 0.         0.         0.         0.         0.         0.\n",
      " 0.         0.         0.         0.         0.         0.\n",
      " 0.         0.         0.         0.17056622 0.22156046 0.25684186\n",
      " 0.27400466 0.27187742 0.250603   0.21162902 0.15760933 0.\n",
      " 0.         0.         0.         0.         0.         0.\n",
      " 0.         0.         0.         0.         0.         0.\n",
      " 0.         0.         0.         0.17076664 0.22188543 0.25727739\n",
      " 0.27452919 0.27246327 0.25121832 0.21223996 0.15818238 0.\n",
      " 0.         0.         0.         0.         0.         0.\n",
      " 0.         0.         0.         0.         0.         0.\n",
      " 0.         0.         0.         0.170984   0.22222485 0.25772408\n",
      " 0.275061   0.27305222 0.25183252 0.21284585 0.15874698 0.\n",
      " 0.         0.         0.         0.         0.         0.\n",
      " 0.         0.         0.         0.         0.         0.\n",
      " 0.         0.         0.         0.17121803 0.22257832 0.25818144\n",
      " 0.27559954 0.27364369 0.25244508 0.2134462  0.15930274 0.\n",
      " 0.         0.         0.         0.         0.         0.\n",
      " 0.         0.         0.         0.         0.         0.\n",
      " 0.         0.         0.         0.17146841 0.22294543 0.25864896\n",
      " 0.27614427 0.27423715 0.25305544 0.21404053 0.15984925 0.\n",
      " 0.         0.         0.         0.         0.         0.\n",
      " 0.         0.         0.         0.         0.         0.\n",
      " 0.         0.         0.         0.17173482 0.22332576 0.25912615\n",
      " 0.27669465 0.27483201 0.25366307 0.21462836 0.16038611 0.\n",
      " 0.         0.         0.         0.         0.         0.\n",
      " 0.         0.         0.         0.         0.         0.\n",
      " 0.         0.         0.         0.17201692 0.22371885 0.2596125\n",
      " 0.2772501  0.27542771 0.25426742 0.21520921 0.16091295 0.\n",
      " 0.         0.         0.         0.         0.         0.\n",
      " 0.         0.         0.         0.         0.         0.\n",
      " 0.         0.         0.         0.17231439 0.22412428 0.26010747\n",
      " 0.27781008 0.27602369 0.25486796 0.21578259 0.16142937 0.\n",
      " 0.         0.         0.         0.         0.         0.\n",
      " 0.         0.         0.         0.         0.         0.\n",
      " 0.         0.         0.         0.17262686 0.22454158 0.26061056\n",
      " 0.278374   0.27661937 0.25546414 0.21634804 0.16193499 0.\n",
      " 0.         0.         0.         0.         0.         0.\n",
      " 0.         0.         0.         0.         0.         0.\n",
      " 0.         0.         0.         0.17295397 0.2249703  0.26112121\n",
      " 0.27894131 0.27721417 0.25605542 0.21690506 0.16242942 0.\n",
      " 0.         0.         0.         0.         0.         0.\n",
      " 0.         0.         0.         0.         0.         0.\n",
      " 0.         0.         0.         0.17329538 0.22540998 0.26163891\n",
      " 0.27951142 0.27780751 0.25664125 0.21745319 0.16291228 0.\n",
      " 0.         0.         0.         0.         0.         0.\n",
      " 0.         0.         0.         0.         0.         0.\n",
      " 0.         0.         0.10909419 0.17365072 0.22586016 0.26216311\n",
      " 0.28008376 0.27839882 0.25722108 0.21799191 0.16338316 0.\n",
      " 0.         0.         0.         0.         0.         0.\n",
      " 0.         0.         0.         0.         0.         0.\n",
      " 0.         0.         0.10935673 0.17401964 0.22632038 0.26269329\n",
      " 0.28065775 0.27898749 0.25779434 0.21852075 0.16384167 0.\n",
      " 0.         0.         0.         0.         0.         0.\n",
      " 0.         0.         0.         0.         0.         0.\n",
      " 0.         0.         0.10963537 0.17440178 0.22679018 0.2632289\n",
      " 0.28123281 0.27957296 0.25836048 0.21903921 0.16428741 0.\n",
      " 0.         0.         0.         0.         0.         0.\n",
      " 0.         0.         0.         0.         0.         0.\n",
      " 0.         0.         0.10992989 0.17479678 0.2272691  0.26376941\n",
      " 0.28180837 0.28015464 0.25891896 0.21954682 0.16472    0.\n",
      " 0.         0.         0.         0.         0.         0.\n",
      " 0.         0.         0.         0.         0.         0.\n",
      " 0.         0.         0.11024004 0.17520428 0.22775669 0.2643143\n",
      " 0.28238387 0.28073197 0.25946925 0.2200431 ]\n",
      "2788671.7460846533\n",
      "[2788671.7460846533]\n"
     ]
    }
   ],
   "source": [
    "# Flux array constructor\n",
    "for zenitha in range(0, 91):  # 0° til 90°\n",
    "    theta_panel = np.deg2rad(zenitha)\n",
    "    phi_panel = np.deg2rad(1)\n",
    "    for azimutha in range(0, 360):\n",
    "        flux_array\n",
    "    flux_array = np.where(\n",
    "        theta_sol <= np.pi / 2,\n",
    "        solar_panel_projection(theta_sol, phi_sol, theta_panel, phi_panel),\n",
    "        0.0)\n",
    "theta_panel, phi_panel = np.deg2rad(50), np.deg2rad(180)\n",
    "theta_sol, phi_sol = np.deg2rad(solpos.zenith.values), np.deg2rad(solpos.azimuth.values)\n",
    "\n",
    "energier = []\n",
    "wh_energier = []\n",
    "\n",
    "flux_array = np.where(\n",
    "    theta_sol <= np.pi / 2,\n",
    "    solar_panel_projection(theta_sol, phi_sol, theta_panel, phi_panel),\n",
    "    0.0)\n",
    "\n",
    "print(flux_array[18:1000])\n",
    "energi = integrate.simpson(flux_array, dx=3600)\n",
    "print(energi)\n",
    "energier.append(energi)\n",
    "wh_energier.append(energi/3600)\n",
    "\n",
    "print(energier)\n"
   ]
  },
  {
   "cell_type": "code",
   "execution_count": null,
   "id": "4dc064fd",
   "metadata": {},
   "outputs": [
    {
     "data": {
      "text/plain": [
       "(8783,)"
      ]
     },
     "execution_count": 114,
     "metadata": {},
     "output_type": "execute_result"
    }
   ],
   "source": [
    "theta_sol.shape"
   ]
  },
  {
   "cell_type": "code",
   "execution_count": null,
   "id": "1c7623ad",
   "metadata": {},
   "outputs": [
    {
     "data": {
      "text/plain": [
       "97"
      ]
     },
     "execution_count": 116,
     "metadata": {},
     "output_type": "execute_result"
    }
   ],
   "source": [
    "len(energier)"
   ]
  },
  {
   "cell_type": "code",
   "execution_count": null,
   "id": "f444da85",
   "metadata": {},
   "outputs": [
    {
     "name": "stdout",
     "output_type": "stream",
     "text": [
      "(8783,)\n"
     ]
    }
   ],
   "source": [
    "print(theta_sol.shape)"
   ]
  },
  {
   "cell_type": "code",
   "execution_count": null,
   "id": "0ac338ed",
   "metadata": {},
   "outputs": [
    {
     "data": {
      "text/plain": [
       "1"
      ]
     },
     "execution_count": 133,
     "metadata": {},
     "output_type": "execute_result"
    }
   ],
   "source": [
    "\n",
    "# redefinere globale variabler, og constructors for at sikre functionalitet/brug af korrekte data,\n",
    "tidszone = \"Europe/Copenhagen\"\n",
    "start_dato = \"2024-01-01\"\n",
    "slut_dato = \"2024-12-31\"\n",
    "delta_tid = \"h\" \n",
    "\n",
    "site = Location(\n",
    "    55.47092, 12.31168, tidszone, 10, \"Danmarks Tekniske Universitet (DK)\"\n",
    ")\n",
    "\n",
    "# \n",
    "times_hourly = pd.date_range(\n",
    "    start=start_dato + \" 00:00:00\",\n",
    "    end=slut_dato + \" 23:00:00\", # Inclusive endpoint for the last hour\n",
    "    freq=delta_tid,\n",
    "    tz=tidszone\n",
    ")\n",
    "print(f\"Der er blevet udregnet for {len(times_hourly)} timer {start_dato} til {slut_dato}.\")\n",
    "endpoint = \"https://api.energidataservice.dk/dataset/elspotprices\"\n",
    "params = {\n",
    "    \"start\": start_dato,\n",
    "    \"end\": slut_dato,\n",
    "    \"filter\": '{\"PriceArea\":[\"DK2\"]}',\n",
    "    \"sort\": \"HourDK ASC\"\n",
    "}\n",
    "hourly_price_DKK_per_kWh_aligned = None # Initialize\n",
    "\n",
    "\n",
    "solpos_hourly = site.get_solarposition(times_hourly)\n",
    "theta_sol_hourly = np.deg2rad(solpos_hourly.zenith.values)\n",
    "phi_sol_hourly = np.deg2rad(solpos_hourly.azimuth.values)\n",
    "\n",
    "\n",
    "#\n",
    "\n",
    "try:\n",
    "    response = requests.get(endpoint, params=params, timeout=30)\n",
    "    response.raise_for_status()\n",
    "    data = response.json()\n",
    "    df_prices = pd.DataFrame(data['records'])\n",
    "\n",
    "    df_prices['HourDK'] = pd.to_datetime(df_prices['HourDK'])\n",
    "    df_prices = df_prices.set_index('HourDK')\n",
    "    df_prices = df_prices.tz_convert(tidszone)\n",
    "    hourly_price_DKK_per_kWh = df_prices['SpotPriceDKK'] / 100.0\n",
    "    hourly_price_DKK_per_kWh_aligned = hourly_price_DKK_per_kWh.reindex(times_hourly).ffill().bfill()\n",
    "\n",
    "    if len(hourly_price_DKK_per_kWh_aligned) != len(times_hourly):\n",
    "         hourly_price_DKK_per_kWh_aligned = hourly_price_DKK_per_kWh_aligned.reindex(times_hourly).ffill().bfill()\n",
    "    print(\"Data matchede ikke i størrelse, dimensioner med manglenede data er erstattet med 0'er.\")\n",
    "\n",
    "except requests.exceptions.RequestException as e:\n",
    "    print(f\"Error fetching data: {e}\")\n",
    "    hourly_price_DKK_per_kWh_aligned = pd.Series(np.zeros(len(times_hourly)), index=times_hourly) # hvis fetching fejler, for vi 0 som output af hele funktionen.\n",
    "\n",
    "# Sol og panel vektorer til projektionen, som bruges til at finde componenten af irradians der er arbedjsom i panelet. \n",
    "def solar_panel_projection(theta_sol, phi_sol, theta_panel, phi_panel):\n",
    "    theta_sol = np.asarray(theta_sol)\n",
    "    phi_sol = np.asarray(phi_sol)\n",
    "    SnLB = 0.185 * 1.63 * 550 # S er solens Irradiance, n er panel effektivitet, LB(længde og bredde) er arealet af panelet.\n",
    "    u_s = np.array([\n",
    "        np.sin(theta_sol) * np.cos(phi_sol),\n",
    "        np.sin(theta_sol) * np.sin(phi_sol),\n",
    "        np.cos(theta_sol)\n",
    "    ])\n",
    "    u_p = np.array([\n",
    "        np.sin(theta_panel) * np.cos(phi_panel),\n",
    "        np.sin(theta_panel) * np.sin(phi_panel),\n",
    "        np.cos(theta_panel)\n",
    "    ])\n",
    "    dot_products = SnLB * u_s.T@u_p\n",
    "    return np.maximum(dot_products, 0)\n",
    "# Værdi af strøm generet, som er den integrerede værdi af fluxen over tid, ganget med prisen på strømmen.\n",
    "def calculate_annual_profit(theta_panel_rad, phi_panel_rad, theta_sol, phi_sol, price_per_kwh):\n",
    "    hourly_power_W = np.where(\n",
    "        theta_sol <= np.pi / 2,\n",
    "        solar_panel_projection(theta_sol, phi_sol, theta_panel_rad, phi_panel_rad),\n",
    "        0.0\n",
    "    )\n",
    "    hourly_energy_kWh = hourly_power_W / 1000.0\n",
    "    hourly_value_DKK = hourly_energy_kWh * price_per_kwh.values\n",
    "    total_value_DKK = np.sum(hourly_value_DKK)\n",
    "    return total_value_DKK\n",
    "\n",
    "# --- 6. Systematic Calculation over all Angle Combinations ---\n",
    "\n",
    "# Define angle ranges (degrees)\n",
    "tilt_angles_deg = np.arange(0, 91)  # 0 to 90 degrees inclusive\n",
    "azimuth_angles_deg = np.arange(0, 360) # 0 to 359 degrees inclusive\n",
    "\n",
    "# Initialize results array\n",
    "annual_profits = np.zeros((len(tilt_angles_deg), len(azimuth_angles_deg)))\n",
    "\n",
    "print(f\"\\nStarting profit calculation for {len(tilt_angles_deg)} tilt angles and {len(azimuth_angles_deg)} azimuth angles...\")\n",
    "print(f\"Total combinations: {len(tilt_angles_deg) * len(azimuth_angles_deg)}\")\n",
    "\n",
    "# --- Nested Loops ---\n",
    "for i, theta_p_deg in enumerate(tilt_angles_deg):\n",
    "    theta_p_rad = np.deg2rad(theta_p_deg)\n",
    "\n",
    "    # Print progress every 10 tilt angles\n",
    "    if (i + 1) % 10 == 0 or i == 0:\n",
    "         print(f\"  Calculating for Tilt Angle: {theta_p_deg}° ({i+1}/{len(tilt_angles_deg)})\")\n",
    "\n",
    "    for j, phi_p_deg in enumerate(azimuth_angles_deg):\n",
    "        phi_p_rad = np.deg2rad(phi_p_deg)\n",
    "\n",
    "        # Calculate annual profit\n",
    "        profit = calculate_annual_profit(\n",
    "            theta_p_rad,\n",
    "            phi_p_rad,\n",
    "            theta_sol_hourly,\n",
    "            phi_sol_hourly,\n",
    "            hourly_price_DKK_per_kWh_aligned # Use the aligned price Series\n",
    "        )\n",
    "        annual_profits[i, j] = profit\n",
    "\n",
    "print(\"Calculation finished.\")\n",
    "\n",
    "# --- 7. Find and Report the Optimal Combination ---\n",
    "\n",
    "# Find the maximum profit value\n",
    "max_profit = np.max(annual_profits)\n",
    "\n",
    "# Find the indices (row, column) of the maximum value\n",
    "max_indices = np.unravel_index(np.argmax(annual_profits), annual_profits.shape)\n",
    "optimal_tilt_index = max_indices[0]\n",
    "optimal_azimuth_index = max_indices[1]\n",
    "\n",
    "# Get the corresponding optimal angles in degrees\n",
    "optimal_tilt_deg = tilt_angles_deg[optimal_tilt_index]\n",
    "optimal_azimuth_deg = azimuth_angles_deg[optimal_azimuth_index]\n",
    "\n",
    "print(\"\\n--- Optimal Orientation based on Annual Profit (DKK) ---\")\n",
    "print(f\"Optimal Tilt Angle (theta_p): {optimal_tilt_deg}°\")\n",
    "print(f\"Optimal Azimuth Angle (phi_p): {optimal_azimuth_deg}°\")\n",
    "print(f\"Maximum Annual Profit: {max_profit:.2f} DKK\")\n",
    "\n",
    "# --- 8. Optional: Visualization ---\n",
    "print(\"\\nGenerating profit heatmap...\")\n",
    "plt.figure(figsize=(12, 8))\n",
    "im = plt.imshow(annual_profits, aspect='auto', origin='lower',\n",
    "                extent=[azimuth_angles_deg[0]-0.5, azimuth_angles_deg[-1]+0.5,\n",
    "                        tilt_angles_deg[0]-0.5, tilt_angles_deg[-1]+0.5],\n",
    "                cmap='viridis')\n",
    "plt.colorbar(im, label='Annual Profit (DKK)')\n",
    "plt.xlabel(\"Azimuth Angle (phi_p) [degrees]\")\n",
    "plt.ylabel(\"Tilt Angle (theta_p) [degrees]\")\n",
    "plt.title(\"Annual Profit vs. Panel Orientation (DK2 Prices 2024)\")\n",
    "plt.scatter([optimal_azimuth_deg], [optimal_tilt_deg], color='red', marker='x', s=150, linewidth=3, label=f'Optimum\\n({optimal_tilt_deg}°, {optimal_azimuth_deg}°)')\n",
    "plt.legend()\n",
    "plt.grid(True, alpha=0.2)\n",
    "plt.xticks(np.arange(0, 361, 45))\n",
    "plt.yticks(np.arange(0, 91, 10))\n",
    "plt.show()\n",
    "print(\"Heatmap generated.\")"
   ]
  }
 ],
 "metadata": {
  "kernelspec": {
   "display_name": "base",
   "language": "python",
   "name": "python3"
  },
  "language_info": {
   "codemirror_mode": {
    "name": "ipython",
    "version": 3
   },
   "file_extension": ".py",
   "mimetype": "text/x-python",
   "name": "python",
   "nbconvert_exporter": "python",
   "pygments_lexer": "ipython3",
   "version": "3.11.11"
  }
 },
 "nbformat": 4,
 "nbformat_minor": 5
}
